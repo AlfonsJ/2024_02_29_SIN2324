{
 "cells": [
  {
   "cell_type": "markdown",
   "metadata": {},
   "source": [
    "# T2.2 Algorisme Perceptró"
   ]
  },
  {
   "cell_type": "markdown",
   "metadata": {},
   "source": [
    "**2023_01_26_Problema:** $\\;$  La taula següent inclou un conjunt de $4$ mostres bidimensionales d'aprenentatge de $3$ classes, $c=1,2,3$.\n",
    "$$\\begin{array}{rrrr}\n",
    "n  & x_{n1} & x_{n2} & c_n\\\\\\hline%\n",
    "1 & 3 & 5 & 3\\\\%\n",
    "2 & 5 & 1 & 1\\\\%\n",
    "3 & 2 & 2 & 1\\\\%\n",
    "4 & 1 & 2 & 2\\\\%\n",
    "\\hline%\n",
    "\\end{array}$$\n",
    "Es demana:\n",
    "1. ($1.5$ punts) Realitza una traça d'execució d'una iteració de l'algorisme Perceptró, amb factor d'aprenentatge $\\alpha=1$ marge $b=0.1$ i els següents pesos inicials de cada classe per columnes:\n",
    "$$\\begin{array}{rrrr}\n",
    "d  & w_{d1} & w_{d2} & w_{d3}\\\\\\hline%\n",
    "0 & -1 & 0 & -3\\\\%\n",
    "1 & 4 & -6 & -8\\\\%\n",
    "2 & -10 & -2 & 2\\\\%\n",
    "\\hline%\n",
    "\\end{array}$$\n",
    "2. ($0.5$ punts) Classifica la mostra de test $\\boldsymbol{x}=(5,5)^t$ mitjançant un classificador lineal amb els vectorss de pesos obtinguts en l'apartat anterior."
   ]
  },
  {
   "cell_type": "markdown",
   "metadata": {},
   "source": [
    "**Solució:**\n",
    "1. Una iteració de Perceptró amb 1 muestra mal clasificada i pesos resultants:\n",
    "$$\\begin{array}{rrrr}\n",
    "d & w_{d1} & w_{d2} & w_{d3}\\\\\\hline%\n",
    "0 & -1 & 1 & -4\\\\%\n",
    "1 & 4 & -5 & -9\\\\%\n",
    "2 & -10 & 0 & 0\\\\%\n",
    "\\hline%\n",
    "\\end{array}$$\n",
    "2. Classificació de la mostra de test: $\\quad g_1(\\boldsymbol{x})=-31\\quad g_2(\\boldsymbol{x})=-24\\quad g_3(\\boldsymbol{x})=-49 \\quad\\Rightarrow\\quad c(\\boldsymbol{x})=2$"
   ]
  },
  {
   "cell_type": "markdown",
   "metadata": {},
   "source": [
    "**2023_01_17_Qüestió 4:** $\\;$ Suposeu que estem aplicant l'algorisme Perceptró, amb factor d'aprenentatge $\\alpha=1$ i marge $b=0.1$, a un conjunt de $4$ mostres bidimensionals d'aprenentatge per a un problema de $4$ classes, $c=1,2,3,4$. En un moment donat de l'execució de l'algorisme s'han obtés els vectors de pesos $\\boldsymbol{w}_1=(-2,-2,-6)^t$, $\\boldsymbol{w}_2=(-2,-2,-6)^t$, $\\boldsymbol{w}_3=(-2,-4,-4)^t$, $\\boldsymbol{w}_4=(-2,-4,-4)^t$. Suposant que a continuació es va a processar la mostra $(\\boldsymbol{x},c)=(( 4, 5)^t,2)$, quants vectors de pesos es modificaran?\n",
    "1. 0\n",
    "2. 2\n",
    "3. 3\n",
    "4. 4"
   ]
  },
  {
   "cell_type": "markdown",
   "metadata": {},
   "source": [
    "**Solució:** $\\;$ la 4."
   ]
  }
 ],
 "metadata": {
  "language_info": {
   "name": "python"
  }
 },
 "nbformat": 4,
 "nbformat_minor": 2
}
