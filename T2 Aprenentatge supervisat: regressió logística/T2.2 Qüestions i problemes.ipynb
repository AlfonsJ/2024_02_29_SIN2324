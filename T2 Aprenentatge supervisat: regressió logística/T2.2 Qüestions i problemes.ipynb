{
 "cells": [
  {
   "cell_type": "markdown",
   "metadata": {},
   "source": [
    "# T2.2 Algorisme Perceptró"
   ]
  },
  {
   "cell_type": "markdown",
   "metadata": {},
   "source": [
    "**2023_01_17_Qüestió 4:** $\\;$ Suposeu que estem aplicant l'algorisme Perceptró, amb factor d'aprenentatge $\\alpha=1$ i marge $b=0.1$, a un conjunt de $4$ mostres bidimensionals d'aprenentatge per a un problema de $4$ classes, $c=1,2,3,4$. En un moment donat de l'execució de l'algorisme s'han obtés els vectors de pesos $\\boldsymbol{w}_1=(-2,-2,-6)^t$, $\\boldsymbol{w}_2=(-2,-2,-6)^t$, $\\boldsymbol{w}_3=(-2,-4,-4)^t$, $\\boldsymbol{w}_4=(-2,-4,-4)^t$. Suposant que a continuació es va a processar la mostra $(\\boldsymbol{x},c)=(( 4, 5)^t,2)$, quants vectors de pesos es modificaran?\n",
    "1. 0\n",
    "2. 2\n",
    "3. 3\n",
    "4. 4"
   ]
  },
  {
   "cell_type": "markdown",
   "metadata": {},
   "source": [
    "**Solució:** $\\;$ la 4."
   ]
  }
 ],
 "metadata": {
  "language_info": {
   "name": "python"
  }
 },
 "nbformat": 4,
 "nbformat_minor": 2
}
