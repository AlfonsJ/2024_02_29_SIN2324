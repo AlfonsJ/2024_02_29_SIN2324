{
 "cells": [
  {
   "cell_type": "markdown",
   "metadata": {},
   "source": [
    "# T2.1 Funcions discriminants"
   ]
  },
  {
   "cell_type": "markdown",
   "metadata": {},
   "source": [
    "**2023_01_26_Qüestió_2:** $\\;$ Donat el classificador en 2 classes definit\n",
    "pels seus vectors de pesos $ \\boldsymbol{w}_1 =(-2,3,3)^t,\\; \\boldsymbol{w}_2 =(0,2,-2)^t$ en notació homogènia, \n",
    "quin dels següents conjunts de vectors **no** defineix un classificador equivalent al donat?\n",
    "1. $\\boldsymbol{w}_1 =(1,3,3)^t,\\; \\boldsymbol{w}_2 =(3,2,-2)^t$\n",
    "2. $\\boldsymbol{w}_1 =(-4,6,6)^t,\\; \\boldsymbol{w}_2 =(0,4,-4)^t$\n",
    "3. $\\boldsymbol{w}_1 =(-1,6,6)^t,\\; \\boldsymbol{w}_2 =(3,4,-4)^t$\n",
    "4. $\\boldsymbol{w}_1 =(2,-3,-3)^t,\\; \\boldsymbol{w}_2 =(0,-2,2)^t$"
   ]
  },
  {
   "cell_type": "markdown",
   "metadata": {},
   "source": [
    "**Solució:** $\\;$ la 4."
   ]
  },
  {
   "cell_type": "markdown",
   "metadata": {},
   "source": [
    "**2023_01_17_Qüestió 3:** $\\;$ Siga el classificador en dues classes definit per la seua frontera i regions de decisió de la figura:"
   ]
  },
  {
   "cell_type": "code",
   "execution_count": 1,
   "metadata": {},
   "outputs": [
    {
     "data": {
      "image/png": "[encoded data removed]",
      "text/plain": [
       "<Figure size 200x200 with 1 Axes>"
      ]
     },
     "metadata": {},
     "output_type": "display_data"
    }
   ],
   "source": [
    "import numpy as np; import matplotlib.pyplot as plt\n",
    "plt.figure(figsize=(2, 2)); ticks = np.arange(0, 1.1, 0.25); plt.xticks(ticks); plt.yticks(ticks); plt.grid()\n",
    "plt.plot((0, 1), (0, 1)); plt.text(0.1, 0.6, 'Regió 2'); plt.text(0.6, 0.35, 'Regió 1');"
   ]
  },
  {
   "cell_type": "markdown",
   "metadata": {},
   "source": [
    "Quin dels següents vectors de pesos (en notació homogènia) defineix un classificador equivalent al donat?\n",
    "1. $\\boldsymbol{w}_1=(0,-2,0)^t\\;$ i $\\;\\boldsymbol{w}_2=(0,0,-2)^t$.\n",
    "2. $\\boldsymbol{w}_1=(0,2,0)^t\\;$ i $\\;\\boldsymbol{w}_2=(0,0,2)^t$.\n",
    "3. $\\boldsymbol{w}_1=(0,0,2)^t\\;$ i $\\;\\boldsymbol{w}_2=(0,2,0)^t$.\n",
    "4. Tots els vectors de pesos anteriors defineixen classificadors equivalents.\n"
   ]
  },
  {
   "cell_type": "markdown",
   "metadata": {},
   "source": [
    "**Solució:** $\\;$ la 2."
   ]
  },
  {
   "cell_type": "markdown",
   "metadata": {},
   "source": [
    "**2022_02_03_Qüestió:** $\\;$ Siga $\\boldsymbol{x}$ un objecte a classificar en una classe de $C$ possibles. Indica quin dels següents classificadors **no** és d'error mínim (o escull l'última opció si els tres són d'error mínim):\n",
    "1. $\\;c(\\boldsymbol{x})=\\argmax\\limits_{c=1,\\dotsc,C}\\;\\log p(c) + \\log p(\\boldsymbol{x}|c) - \\log p(\\boldsymbol{x})$\n",
    "2. $\\;c(\\boldsymbol{x})=\\argmax\\limits_{ c=1,\\dotsc,C}\\;-\\log p(\\boldsymbol{x},c)$\n",
    "3. $\\;c(\\boldsymbol{x})=\\argmax\\limits_{c=1,\\dotsc,C}\\;\\log p(c) + \\log p(\\boldsymbol{x}|c)$\n",
    "4. Els tres classificadors anteriors són d'error mínim"
   ]
  },
  {
   "cell_type": "markdown",
   "metadata": {},
   "source": [
    "**Solució:** $\\;$ la 2."
   ]
  }
 ],
 "metadata": {
  "kernelspec": {
   "display_name": "Python 3",
   "language": "python",
   "name": "python3"
  },
  "language_info": {
   "codemirror_mode": {
    "name": "ipython",
    "version": 3
   },
   "file_extension": ".py",
   "mimetype": "text/x-python",
   "name": "python",
   "nbconvert_exporter": "python",
   "pygments_lexer": "ipython3",
   "version": "3.11.4"
  }
 },
 "nbformat": 4,
 "nbformat_minor": 2
}
