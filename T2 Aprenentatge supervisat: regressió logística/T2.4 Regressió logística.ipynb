{
 "cells": [
  {
   "cell_type": "markdown",
   "metadata": {},
   "source": [
    "# T2.4 Regressió logística"
   ]
  },
  {
   "cell_type": "markdown",
   "metadata": {},
   "source": [
    "# Índex\n",
    "\n",
    "1. Codificació one-hot i distribució categòrica"
   ]
  },
  {
   "cell_type": "markdown",
   "metadata": {},
   "source": [
    "# 1 Codificació one-hot i distribució categòrica\n",
    "\n",
    "**Variable categòrica:** $\\;$ variable aleatòria que pren un valor d'un conjunt finit de categories (no ordenades)\n",
    "\n",
    "**Exemples de variables categòriques:** $\\;$ color RGB, **etiqueta de classe,** paraula d'un vocabulari, etc.\n",
    "\n",
    "**Codificació one-hot:** $\\;$ d'una variable categòrica $y$ que pren un valor entre $C$ possibles, $\\,\\{1,\\dotsc,C\\}$\n",
    "$$\\operatorname{one-hot}(y)%\n",
    "=\\boldsymbol{y}%\n",
    "=\\begin{pmatrix}y_1\\\\\\vdots\\\\y_C\\end{pmatrix}%\n",
    "=\\begin{pmatrix}\\mathbb{I}(y=1)\\\\\\vdots\\\\\\mathbb{I}(y=C)\\end{pmatrix}\\in\\{0,1\\}^C%\n",
    "\\quad\\text{amb}\\quad%\n",
    "\\sum_c y_c=1$$\n",
    "\n",
    "**Distribució categòrica:** $\\;$ distribució de probabilitats entre les $C$ possibles categories d'una variable categòrica\n",
    "$$P(\\boldsymbol{y}\\mid\\boldsymbol{\\theta})=\\prod_{c=1}^C\\theta_c^{y_c}%\n",
    "\\quad\\text{on}\\quad%\n",
    "\\boldsymbol{\\theta}\\in[0,1]^C,\\;\\sum_c\\theta_c=1$$\n",
    "\n",
    "**Convenció:** $\\;0^0=1\\;$ i $\\;0\\log 0=0$\n",
    "\n",
    "**Exemple:** $\\;$ problema de classificació en $C=3$ classes, $\\;P(\\boldsymbol{y}\\mid\\boldsymbol{\\theta})=\\theta_1^{y_1}\\theta_2^{y_2}\\theta_3^{y_3}$\n",
    "* $\\boldsymbol{\\theta}=(0.5, 0.5, 0)^t:\\;$ $\\;P(\\boldsymbol{y}=(1,0,0)^t\\mid\\boldsymbol{\\theta})=0.5^10.5^00^0=0.5$"
   ]
  }
 ],
 "metadata": {
  "kernelspec": {
   "display_name": "Python 3",
   "language": "python",
   "name": "python3"
  },
  "language_info": {
   "codemirror_mode": {
    "name": "ipython",
    "version": 3
   },
   "file_extension": ".py",
   "mimetype": "text/x-python",
   "name": "python",
   "nbconvert_exporter": "python",
   "pygments_lexer": "ipython3",
   "version": "3.11.4"
  },
  "orig_nbformat": 4
 },
 "nbformat": 4,
 "nbformat_minor": 2
}
