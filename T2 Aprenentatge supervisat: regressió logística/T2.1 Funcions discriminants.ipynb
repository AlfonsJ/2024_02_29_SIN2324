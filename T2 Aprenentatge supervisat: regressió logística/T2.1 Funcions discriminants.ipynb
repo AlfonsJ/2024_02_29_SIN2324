{
 "cells": [
  {
   "cell_type": "markdown",
   "metadata": {},
   "source": [
    "# T2.1 Funcions discriminants"
   ]
  },
  {
   "cell_type": "markdown",
   "metadata": {},
   "source": [
    "# Índex\n",
    "\n",
    "1. Funcions discriminants\n",
    "2. Funcions discriminants lineals\n",
    "3. Fronteres de decisió\n",
    "4. Regions de decisió\n",
    "5. Classificadors equivalents"
   ]
  },
  {
   "cell_type": "markdown",
   "metadata": {},
   "source": [
    "# 1 Funcions discriminants\n",
    "\n",
    "**Notació:**\n",
    "* **Objectes (entrades):** $\\;\\boldsymbol{x}\\in\\mathcal{X},\\,$ típicament vectors de $D$ característiques reals, $\\,\\mathcal{X}=\\mathbb{R}^D,\\,D\\geq 1$\n",
    "* **Etiquetes de classe (eixides):** $\\;y\\in\\mathcal{Y}\\,$ o $\\,c\\in\\mathcal{C},\\,$ típicament $\\,\\mathcal{Y}=\\mathcal{C}=\\{1,\\dotsc,C\\},\\,C\\geq 2$ \n",
    "\n",
    "**Representació clàssica de classificadors:** $\\;$ amb una **funció discriminant** per classe, $\\,g_c(\\cdot),\\,$ que mesura la (pseudo-)probabilitat de pertànyer a $c$\n",
    "$$c(\\boldsymbol{x}) = \\argmax\\limits_c\\; g_c(\\boldsymbol{x})$$\n",
    "\n",
    "**Exemple:** $\\;$ classificador en 3 classes per a $\\,\\boldsymbol{x}=(x_1,x_2)^t\\in [0,1]^2$\n",
    "$$\\begin{array}{cccccc}x_1&x_2&\n",
    "g_1(\\boldsymbol{x})&g_2(\\boldsymbol{x})&g_3(\\boldsymbol{x})&c(\\boldsymbol{x})\\\\\\hline \n",
    "0 & 0 & 1.0 & 0.0 & 0.0 & 1\\\\\n",
    "0 & 1 & \\tfrac{1}{3} & \\tfrac{1}{3} & \\tfrac{1}{3} & 1\\\\\n",
    "1 & 0 & 0.25 & 0.5 & 0.25 & 2\\\\\n",
    "1 & 1 & 0.01 & 0.01 & 0.98 & 3\\\\\\hline \n",
    "\\end{array}$$\n",
    "\n",
    "**Regla de decisió de Bayes:** $\\;$ amb $\\,g_c(x) = P(c\\mid x)\\,$ o $\\,g_c(x) = P(c)\\,p(x\\mid c)$"
   ]
  },
  {
   "cell_type": "markdown",
   "metadata": {},
   "source": [
    "# 2 Funcions discriminants lineals\n",
    "\n",
    "**Funció discriminant lineal:** $\\;$ funció lineal amb les característiques\n",
    "$$g_c(\\boldsymbol{x})=\\sum_d w_{cd}\\,x_d + w_{c0} = \\boldsymbol{w}_c^t\\,\\boldsymbol{x} + w_{c0}$$\n",
    "* $\\boldsymbol{w}_c=(w_{c1},w_{c2},\\dotsc,w_{cD})^t$ és el **vector de pesos** de la classe $c$\n",
    "* $w_{c0}$ és el **pes llindar** de la classe $c$\n",
    "\n",
    "**Exemple:** $\\;C=2,\\, x\\in\\mathbb{R},\\, g_1(x)=4x-4,\\, g_2(x)=12x-36$"
   ]
  },
  {
   "cell_type": "code",
   "execution_count": 1,
   "metadata": {},
   "outputs": [
    {
     "data": {
      "image/png": "[encoded data removed]",
      "text/plain": [
       "<Figure size 640x480 with 1 Axes>"
      ]
     },
     "metadata": {},
     "output_type": "display_data"
    }
   ],
   "source": [
    "import numpy as np; import matplotlib.pyplot as plt\n",
    "g1 = lambda x: 4*x-4; g2 = lambda x: 12*x-36; x = np.linspace(0, 7, 200)\n",
    "plt.grid(); plt.plot(x, g1(x), x, g2(x));"
   ]
  },
  {
   "cell_type": "markdown",
   "metadata": {},
   "source": [
    "# 3 Fronteres de decisió\n",
    "       \n",
    "La \\empha{frontera de decisió} entre dues classes, $c$ i $c'$, és el\n",
    "lloc geo\\-mè\\-tric dels punts $\\boldsymbol{x}\\in E\\,$ on es compleix:\n",
    "      \n",
    "\\begin{displaymath}\n",
    "  g_c(\\boldsymbol{x}) = g_{c'}(\\boldsymbol{x}) \\qquad \\text{per a tot} ~~c\\neq c'\n",
    "\\end{displaymath}\n",
    "\\vspace*{1mm}\n",
    "% \\textbf{Ejemplo:} Un classificador lineal en 2 clases\n",
    "\\begin{center}\n",
    "\\psset{xunit=20mm,yunit=1.75mm}\n",
    "\\begin{pspicture}(0,0)(8,40)\n",
    "\\psaxes[Dy=10]{->}(8,40)\n",
    "% xlabel\n",
    "\\rput(8,-3){$x$}\n",
    "% ylabel\n",
    "\\rput(-0.5,40){$g(x)$}\n",
    "% classe negre\n",
    "% \\psdots[dotstyle=*,dotsize=1pt 7](1,0)(2,0)(3,0)\n",
    "% \\rput(2,-8){$R_1$}\n",
    "\\pstextpath[c]{%\n",
    "\\psline[linewidth=1pt](0.5,-2)(4,12)}{\\raisebox{1em}{$g_1(x)=4x-4$}}\n",
    "\\psline[linewidth=1pt](4,12)(8,28)\n",
    "% classe blanc\n",
    "% \\psdots[dotstyle=o,dotsize=1pt 7](5,0)(7,0)\n",
    "% \\rput(6,-8){$R_2$}\n",
    "\\pstextpath[c]{%\n",
    "\\psline[linestyle=dashed,dash=1pt 3pt,linewidth=2pt](4,12)(6.25,39)}{%\n",
    "  \\raisebox{1em}{$g_2(x)=12x-36$}}\n",
    "\\psline[linestyle=dashed,dash=1pt 3pt,linewidth=2pt](4,12)(2.5,-6)\n",
    "% frontera\n",
    "\\psline[linestyle=dashed,dash=3pt 3pt,linewidth=2pt](4,0)(4,12)\n",
    "\\psdots[dotstyle=*,dotsize=8pt 7](4,0)\n",
    "\\end{pspicture}\n",
    "\\end{center}\n",
    "\n",
    "\\begin{displaymath}\n",
    "g_1(x) = g_2(x) \\rightarrow 4x-4 = 12x-36 \\rightarrow x = \\frac{32}{8}=4\n",
    "\\end{displaymath}\n",
    "\n",
    "\\cp %---------------------------------------------------------------------------\n",
    "\\section*{Fronteres de decisió}\n",
    "          \n",
    "La \\empha{frontera de decisió} entre dues classes, $c$ i $c'$, amb\n",
    "$\\boldsymbol{x}\\in E$ és:\n",
    "\n",
    "\\vspace{5mm}\n",
    "\\begin{itemize}\\itemsep=10mm\n",
    " \\item Un punt,  si $E\\equiv\\floats$\n",
    " \\item Una línia (ex. \\emph{rectes}), si $E\\equiv\\floats^2$\n",
    " \\item Una superfície (ex. \\emph{plans}), si $E\\equiv\\floats^3$ \n",
    "\\end{itemize}\n",
    "\n",
    "\\vspace*{20mm} %\n",
    "En general són \\emph{hipersuperfícies} definides per les equacions:\n",
    "\n",
    "\\[g_c(\\boldsymbol{x})-g_{c'}(\\boldsymbol{x})=0\\qquad \\text {per a tot} ~~c\\neq c'\\]\n",
    "\n",
    "% \\vspace*{10mm}\n",
    "% La \\empha{frontera de decisión de una clase ~$i$} es el lugar geométrico \n",
    "% de los puntos $\\mathbf{x}\\in E$ para los que:\n",
    "% \\[g_i(\\mathbf{x}) ~=~ \\max_{j\\neq i} ~ g_j(\\mathbf{x})~~~~~~~~~~~\\]\n",
    "\n",
    "\n",
    "\n"
   ]
  },
  {
   "cell_type": "markdown",
   "metadata": {},
   "source": [
    "# 4 Regions de decisió\n",
    "\n",
    "% \\begin{minipage}{220mm}\n",
    "Un classificador en $C$ classes divideix l'espai de representació en\n",
    "$C$ \\empha{regions de decisió}, $R_1,\\ldots,R_C$:\n",
    "\\begin{displaymath}\n",
    "  R_c=\\biggl\\{\\mathbf{x}\\in E:~~ %\n",
    "              g_c(\\mathbf{x})>\\max_{c'\\neq c} \\; g_{c'}(\\mathbf{x})\\biggr\\}\n",
    "\\end{displaymath}\n",
    "\n",
    "%\\vspace{5mm}\n",
    "\\begin{center}\n",
    "\\psset{xunit=20mm,yunit=1.75mm}\n",
    "\\begin{pspicture}(0,0)(8,40)\n",
    "\\psaxes[Dy=10]{->}(8,40)\n",
    "% xlabel\n",
    "\\rput(8,-3){$x$}\n",
    "% ylabel\n",
    "\\rput(-0.5,40){$g(x)$}\n",
    "% classe negre\n",
    "% \\psdots[dotstyle=*,dotsize=1pt 7](1,0)(2,0)(3,0)\n",
    "\\rput(2,-8){$R_1$}\n",
    "\\rput(2,-12){$g_1(x)>g_2(x)$}\n",
    "\\pstextpath[c]{%\n",
    "\\psline[linewidth=1pt](0.5,-2)(4,12)}{\\raisebox{1em}{$g_1(x)=4x-4$}}\n",
    "\\psline[linewidth=1pt](4,12)(8,28)\n",
    "\\psline[linewidth=4pt](0,0)(4,0)\n",
    "% classe blanc\n",
    "% \\psdots[dotstyle=o,dotsize=1pt 7](5,0)(7,0)\n",
    "\\rput(6,-8){$R_2$}\n",
    "\\rput(6,-12){$g_2(x)>g_1(x)$}\n",
    "\\pstextpath[c]{%\n",
    "\\psline[linestyle=dashed,dash=1pt 3pt,linewidth=2pt](4,12)(6.25,39)}{%\n",
    "  \\raisebox{1em}{$g_2(x)=12x-36$}}\n",
    "\\psline[linestyle=dashed,dash=1pt 3pt,linewidth=2pt](4,12)(2.5,-6)\n",
    "% frontera\n",
    "\\psdots[dotstyle=*,dotsize=8pt 7](4,0)\n",
    "\\psline[linestyle=dashed,dash=3pt 3pt,linewidth=2pt](4,0)(4,12)\n",
    "\\psline[linestyle=dashed,dash=3pt 3pt,linewidth=4pt](4,0)(8,0)\n",
    "\\end{pspicture}\n",
    "\\end{center}\n",
    "\n"
   ]
  },
  {
   "cell_type": "markdown",
   "metadata": {},
   "source": [
    "# 5 Classificadors equivalents\n",
    "\n",
    "Dos \\empha{classificadors} $(g_1,\\ldots,g_C)\\ $ i $\\\n",
    "(g'_1,\\ldots,g'_C)\\ $ són \\empha{equivalents} si defineixen les\n",
    "mateixes fronteres i regions de decisió, és a dir:\n",
    "\\begin{displaymath}\n",
    "  g_c(\\mathbf{x})>g_{c'}(\\mathbf{x}) \\Leftrightarrow\n",
    "  g'_c(\\mathbf{x})>g'_{c'}(\\mathbf{x}) \\qquad \\forall c'\\neq c,~~\n",
    "  \\forall \\mathbf{x}\\in E\n",
    "\\end{displaymath}\n",
    "\n",
    "Com obtenir classificadors equivalents?\n",
    "\\begin{align*}\n",
    "  g'_c(\\mathbf{x})=& \\,a\\cdot g_c(\\mathbf{x})+b   \n",
    "                   & \\text{amb } & a > 0 & 1\\leq c\\leq C\\\\\n",
    "  g'_c(\\mathbf{x})=& \\,\\log\\, g_c(\\mathbf{x}) \n",
    "                   & \\text{amb } & g_c(\\mathbf{x})>0 & 1\\leq c\\leq C\n",
    "\\end{align*}\n",
    "\n",
    "\\vspace*{1mm}\n",
    "Un classificador equivalent al $(g_1,g_2)$ de la traspa anterior:\n",
    "\\begin{align*}\n",
    "  g'_1(x)=x-1 \\; \\text{ i } \\; g'_2(x)=3x-9 \\rightarrow x = \\frac{8}{2}=4\n",
    "\\end{align*}\n",
    "on $a=\\frac{1}{4}$ i $b=0$."
   ]
  }
 ],
 "metadata": {
  "kernelspec": {
   "display_name": "Python 3",
   "language": "python",
   "name": "python3"
  },
  "language_info": {
   "codemirror_mode": {
    "name": "ipython",
    "version": 3
   },
   "file_extension": ".py",
   "mimetype": "text/x-python",
   "name": "python",
   "nbconvert_exporter": "python",
   "pygments_lexer": "ipython3",
   "version": "3.10.12"
  },
  "orig_nbformat": 4
 },
 "nbformat": 4,
 "nbformat_minor": 2
}
