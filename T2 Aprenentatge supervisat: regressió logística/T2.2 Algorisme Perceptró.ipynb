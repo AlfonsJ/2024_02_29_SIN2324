{
 "cells": [
  {
   "cell_type": "markdown",
   "metadata": {},
   "source": [
    "# T2.2 Algorisme Perceptró"
   ]
  },
  {
   "cell_type": "markdown",
   "metadata": {},
   "source": [
    "# Índex\n",
    "\n",
    "1. Algorisme Perceptró\n",
    "2. Exemple\n",
    "3. Convergència i qualitat de la solució"
   ]
  },
  {
   "cell_type": "markdown",
   "metadata": {},
   "source": [
    "# 1 Algorisme Perceptró\n",
    "\n",
    "**Origen:** $\\;$ primer algorisme d'aprenentatge automàtic; proposat per Frank Rosenblatt en 1958\n",
    "\n",
    "**Entrada:** $\\;$ un conjunt d'entrenament, $\\;\\mathcal{D}=\\{(\\boldsymbol{x}_n,y_n)\\},\\,$ amb $\\;\\boldsymbol{x}_n\\in\\mathbb{R}^D\\,$ i $\\,y_n\\in\\{1,\\dotsc,C\\}\\,$ per a tot $n$\n",
    "\n",
    "**Eixida:** $\\;$ els pesos d'un classificador lineal, $\\;c(\\boldsymbol{x}) = \\operatorname{argmax}\\limits_c\\; g_c(\\boldsymbol{x}),\\;$ amb $\\,g_c(\\boldsymbol{x})=\\boldsymbol{w}_c^t\\,\\boldsymbol{x} + w_{c0}\\,$ per a tot $c$\n",
    "\n",
    "**Notació homogènia o compacta:** $\\;\\boldsymbol{x}=(1,x_1,\\dotsc,x_D)^t\\,$ i $\\,\\boldsymbol{w}_c=(w_{c0},w_{c1},\\dotsc,w_{cD})^t;\\quad$ així, $\\;g_c(\\boldsymbol{x})=\\boldsymbol{w}_c^t\\,\\boldsymbol{x}$\n",
    "\n",
    "**Objectiu:** $\\;$ minimitzar el nombre d'errors en entrenament\n",
    "$$\\mathcal{L}(\\{\\boldsymbol{w}_c\\})%\n",
    "=\\sum\\nolimits_n\\mathbb{I}(y_n\\neq c(\\boldsymbol{x}_n))%\n",
    "=\\sum\\nolimits_n\\mathbb{I}(\\max\\nolimits_{c\\neq y_n}g_c(\\boldsymbol{x}_n)>g_{y_n}(\\boldsymbol{x}_n))$$\n",
    "\n",
    "**Objectiu amb marge $b\\geq 0$:** $\\;$ extensió de l'objectiu bàsic ($b=0$) per tal de generalitzar millor\n",
    "$$\\mathcal{L}(\\{\\boldsymbol{w}_c\\})%\n",
    "=\\sum\\nolimits_n\\mathbb{I}(\\max\\nolimits_{c\\neq y_n}g_c(\\boldsymbol{x}_n)+b>g_{y_n}(\\boldsymbol{x}_n))$$\n",
    "*Interpretació:* $\\;$ la pseudo-probabilitat de pertànyer a la classe correcta ha de superar la de qualsevol classe rival amb almenys un marge $b$\n",
    "\n",
    "**Algorisme Perceptró:** $\\;$ versió bàsica amb **factor d'aprenentatge** $\\,\\alpha>0\\,$ per a controlar la velocitat de l'aprenentatge\n",
    "> **Entrada:** $\\;$ dades $\\;\\mathcal{D}=\\{(\\boldsymbol{x}_n,y_n)\\}\\quad$ pesos $\\;\\{\\boldsymbol{w}_c\\}\\quad$ factor d'aprenentatge $\\;\\alpha\\in\\mathbb{R}^{>0}\\quad$ marge $\\;b\\in\\mathbb{R}^{\\geq 0}$ <br>\n",
    "> **Eixida:** $\\;$ pesos optimitzats $\\;\\{\\boldsymbol{w}_c\\}$ <br>\n",
    "> `repetir` <br>\n",
    ">> `per a tota` $\\;$ dada $\\,\\boldsymbol{x}_n$ <br>\n",
    ">>> *err* = `fals` <br>\n",
    ">>> `per a tota` $\\;$ classe $\\,c\\neq y_n$ <br>\n",
    ">>>> `si` $\\;\\boldsymbol{w}_c^t\\boldsymbol{x}_n+b>\\boldsymbol{w}_{y_n}^t\\boldsymbol{x}_n:\\quad\\boldsymbol{w}_c=\\boldsymbol{w}_c-\\alpha\\boldsymbol{x}_n;\\quad$ *err* = `cert` <br>\n",
    ">>>\n",
    ">>> `si` $\\;$ err: $\\quad \\boldsymbol{w}_{y_n}=\\boldsymbol{w}_{y_n}+\\alpha\\boldsymbol{x}_n$\n",
    ">\n",
    "> `fins que` $\\;$ no queden mostres mal classificades"
   ]
  },
  {
   "cell_type": "markdown",
   "metadata": {},
   "source": [
    "**Implementació:** $\\;$ funció per a problemes d'aprenentatge senzills"
   ]
  },
  {
   "cell_type": "code",
   "execution_count": 1,
   "metadata": {},
   "outputs": [],
   "source": [
    "import numpy as np\n",
    "def perceptro(X, y, b=0.1, a=1.0, K=200):\n",
    "    N, D = X.shape; Y = np.unique(y); C = Y.size; W = np.zeros((1+D, C))\n",
    "    for k in range(1, K+1):\n",
    "        E = 0\n",
    "        for n in range(N):\n",
    "            xn = np.array([1, *X[n, :]])\n",
    "            cn = np.squeeze(np.where(Y==y[n]))\n",
    "            gn = W[:,cn].T @ xn; err = False\n",
    "            for c in np.arange(C):\n",
    "                if c != cn and W[:,c].T @ xn + b > gn:\n",
    "                    W[:, c] = W[:, c] - a*xn; err = True\n",
    "            if err:\n",
    "                W[:, cn] = W[:, cn] + a*xn; E = E + 1\n",
    "        if E == 0:\n",
    "            break;\n",
    "    return W, E, k"
   ]
  },
  {
   "cell_type": "markdown",
   "metadata": {},
   "source": [
    "# 2 Exemple\n",
    "\n",
    "**Entrada:** $\\quad C=D=2$ $\\quad\\boldsymbol{x}_1=(1,0,0)^t$ $\\quad y_1=1$ $\\quad\\boldsymbol{x}_2=(1,1,1)^t$ $\\quad y_2=2$ $\\quad\\alpha=1$ $\\quad b=0.1$\n",
    "\n",
    "**Traça:**\n",
    "<center>\n",
    "\n",
    "|Iteració|$n$|$\\boldsymbol{w}_{y_n}^t\\boldsymbol{x}_n$|$c, c\\neq y_n$|$\\boldsymbol{w}_c^t\\boldsymbol{x}_n+b$|$\\boldsymbol{w}_1^t$|$\\boldsymbol{w}_2^t$|\n",
    "|:-:|:-:|:-:|:-:|:-:|:-:|:-:|\n",
    "||||||$(0,0,0)$|$(0,0,0)$|\n",
    "|$1$|$1$|$(0,0,0)(1,0,0)^t=0$|$2$|$(0,0,0)(1,0,0)^t+0.1=0.1$||$(-1,0,0)$|\n",
    "|$1$|$1$||||$(1,0,0)$||\n",
    "|$1$|$2$|$(-1,0,0)(1,1,1)^t=-1$|$1$|$(1,0,0)(1,1,1)^t+0.1=1.1$|$(0,-1,-1)$||\n",
    "|$1$|$2$|||||$(0,1,1)$|\n",
    "|$2$|$1$|$(0,-1,-1)(1,0,0)^t=0$|$2$|$(0,1,1)(1,0,0)^t+0.1=0.1$||$(-1,1,1)$|\n",
    "|$2$|$1$||||$(1,-1,-1)$||\n",
    "|$2$|$2$|$(-1,1,1)(1,1,1)^t=1$|$1$|$(1,-1,-1)(1,1,1)^t+0.1=-0.9$|||\n",
    "|$3$|$1$|$(1,-1,-1)(1,0,0)^t=1$|$2$|$(-1,1,1)(1,0,0)^t=-1$|||\n",
    "|$3$|$2$|$(-1,1,1)(1,1,1)^t=1$|$1$|$(1,-1,-1)(1,1,1)^t+0.1=-0.9$|||\n",
    "\n",
    "</center>"
   ]
  },
  {
   "cell_type": "code",
   "execution_count": 2,
   "metadata": {},
   "outputs": [
    {
     "name": "stdout",
     "output_type": "stream",
     "text": [
      "w1 = [ 1. -1. -1.]   w2 = [-1.  1.  1.]   E = 0   k = 3\n"
     ]
    }
   ],
   "source": [
    "X = np.array([[0, 0], [1, 1]]); y = np.array([0, 1], dtype=int);\n",
    "W, E, k = perceptro(X, y)\n",
    "print(\"w1 =\", W[:,0].T, \"  w2 =\", W[:,1].T, \"  E =\", E, \"  k =\", k)"
   ]
  },
  {
   "cell_type": "markdown",
   "metadata": {},
   "source": [
    "**Frontera:** $\\quad\\boldsymbol{w}_1^t(1, x_1, x_2)^t=\\boldsymbol{w}_2^t(1, x_1, x_2)^t\\;\\to\\;x_2=-x_1+1$"
   ]
  },
  {
   "cell_type": "code",
   "execution_count": 3,
   "metadata": {},
   "outputs": [
    {
     "data": {
      "image/png": "[encoded data removed]",
      "text/plain": [
       "<Figure size 800x300 with 4 Axes>"
      ]
     },
     "metadata": {},
     "output_type": "display_data"
    }
   ],
   "source": [
    "import numpy as np; import matplotlib.pyplot as plt\n",
    "X = np.array([[0, 0], [1, 1]]).astype(float); y = np.array([1, 2]).astype(int)\n",
    "x1, x2 = np.meshgrid(np.linspace(-.03, 1.03, 50), np.linspace(-.03, 1.03, 50))\n",
    "XX = np.c_[np.ravel(x1), np.ravel(x2)]\n",
    "Wt = np.array([[1, -1, -1], [-1, 1, 1]]).astype(float)\n",
    "gg = lambda x: (Wt[0, 0] + Wt[0, 1:] @ x, Wt[1, 0] + Wt[1, 1:] @ x)\n",
    "GG = np.apply_along_axis(gg, 1, XX)\n",
    "_, axs = plt.subplots(1, 2, figsize=(8, 3))\n",
    "for i, ax in enumerate(axs.flat):\n",
    "    ax.grid(); ax.set_title(f'g{i+1}={W[0,:]} (1, x1, x2)^t')\n",
    "    cp = ax.contourf(x1, x2, GG[:, i].reshape(x1.shape), 7, cmap='RdBu_r')\n",
    "    plt.colorbar(cp, ax=ax, shrink=0.5); ax.scatter(*X.T, c=y, s=50);"
   ]
  },
  {
   "cell_type": "markdown",
   "metadata": {},
   "source": [
    "# 3 Convergència i qualitat de la solució\n",
    "\n",
    "**Convergència:** $\\;$ Perceptró convergeix si les dades són **linealment separables**\n",
    "\n",
    "**Efecte del factor d'aprenentatge $\\alpha>0$:** $\\;$ convergeix amb independència del valor triat, encara que lentament si $\\alpha$ és molt menut\n",
    "\n",
    "**Efecte del marge $b\\geq 0$:** $\\;$ convergeix amb fronteres centrades si triem un valor pròxim al màxim marge que permet discriminar linealment les mostres amb marge; si ens passem, Perceptró no convergeix\n",
    "* Cal fer experiments amb diferents valors del marge per tal de trobar un valor que generalitze òptimament"
   ]
  }
 ],
 "metadata": {
  "kernelspec": {
   "display_name": "Python 3",
   "language": "python",
   "name": "python3"
  },
  "language_info": {
   "codemirror_mode": {
    "name": "ipython",
    "version": 3
   },
   "file_extension": ".py",
   "mimetype": "text/x-python",
   "name": "python",
   "nbconvert_exporter": "python",
   "pygments_lexer": "ipython3",
   "version": "3.11.4"
  },
  "orig_nbformat": 4
 },
 "nbformat": 4,
 "nbformat_minor": 2
}
