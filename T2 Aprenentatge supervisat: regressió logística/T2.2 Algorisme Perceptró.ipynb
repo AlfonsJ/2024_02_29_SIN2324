{
 "cells": [
  {
   "cell_type": "markdown",
   "metadata": {},
   "source": [
    "# T2.2 Algorisme Perceptró"
   ]
  },
  {
   "cell_type": "markdown",
   "metadata": {},
   "source": [
    "# Índex\n",
    "\n",
    "1. Algorisme Perceptró"
   ]
  },
  {
   "cell_type": "markdown",
   "metadata": {},
   "source": [
    "# 1 Algorisme Perceptró\n",
    "\n",
    "**Entrada:** $\\;$ un conjunt d'entrenament, $\\;\\mathcal{D}=\\{(\\boldsymbol{x}_n,y_n)\\},\\,$ amb $\\;\\boldsymbol{x}_n\\in\\mathbb{R}^D\\,$ i $\\,y_n\\in\\{1,\\dotsc,C\\}\\,$ per a tot $n$\n",
    "\n",
    "**Eixida:** $\\;$ els pesos d'un classificador lineal, $\\;c(\\boldsymbol{x}) = \\operatorname{argmax}\\limits_c\\; g_c(\\boldsymbol{x}),\\;$ amb $\\,g_c(\\boldsymbol{x})=\\boldsymbol{w}_c^t\\,\\boldsymbol{x} + w_{c0}\\,$ per a tot $c$\n",
    "\n",
    "**Notació homogènia o compacta:** $\\;\\boldsymbol{x}=(1,x_1,\\dotsc,x_D)^t\\,$ i $\\,\\boldsymbol{w}_c=(w_{c0},w_{c1},\\dotsc,w_{cD})^t;\\quad$ així, $\\;g_c(\\boldsymbol{x})=\\boldsymbol{w}_c^t\\,\\boldsymbol{x}$\n",
    "\n",
    "**Objectiu:** $\\;$ minimitzar el nombre d'errors en entrenament\n",
    "$$\\mathcal{L}(\\{\\boldsymbol{w}_c\\})%\n",
    "=\\sum\\nolimits_n\\mathbb{I}(y_n\\neq c(\\boldsymbol{x}_n))%\n",
    "=\\sum\\nolimits_n\\mathbb{I}(\\max\\nolimits_{c\\neq y_n}g_c(\\boldsymbol{x}_n)>g_{y_n}(\\boldsymbol{x}_n))$$\n",
    "\n",
    "**Objectiu amb marge:** $\\;$ introdueix un **marge** $\\,b>0\\,$ per tal de generalitzar millor\n",
    "$$\\mathcal{L}(\\{\\boldsymbol{w}_c\\})%\n",
    "=\\sum\\nolimits_n\\mathbb{I}(\\max\\nolimits_{c\\neq y_n}g_c(\\boldsymbol{x}_n)+b>g_{y_n}(\\boldsymbol{x}_n))$$"
   ]
  }
 ],
 "metadata": {
  "kernelspec": {
   "display_name": "Python 3",
   "language": "python",
   "name": "python3"
  },
  "language_info": {
   "codemirror_mode": {
    "name": "ipython",
    "version": 3
   },
   "file_extension": ".py",
   "mimetype": "text/x-python",
   "name": "python",
   "nbconvert_exporter": "python",
   "pygments_lexer": "ipython3",
   "version": "3.11.4"
  },
  "orig_nbformat": 4
 },
 "nbformat": 4,
 "nbformat_minor": 2
}
