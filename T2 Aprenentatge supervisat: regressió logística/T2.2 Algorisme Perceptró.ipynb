{
 "cells": [
  {
   "cell_type": "markdown",
   "metadata": {},
   "source": [
    "# T2.2 Algorisme Perceptró"
   ]
  },
  {
   "cell_type": "markdown",
   "metadata": {},
   "source": [
    "# Índex\n",
    "\n",
    "1. Algorisme Perceptró"
   ]
  },
  {
   "cell_type": "markdown",
   "metadata": {},
   "source": [
    "# 1 Algorisme Perceptró\n",
    "\n",
    "**Origen:** $\\;$ primer algorisme d'aprenentatge automàtic; proposat per Frank Rosenblatt en 1958\n",
    "\n",
    "**Entrada:** $\\;$ un conjunt d'entrenament, $\\;\\mathcal{D}=\\{(\\boldsymbol{x}_n,y_n)\\},\\,$ amb $\\;\\boldsymbol{x}_n\\in\\mathbb{R}^D\\,$ i $\\,y_n\\in\\{1,\\dotsc,C\\}\\,$ per a tot $n$\n",
    "\n",
    "**Eixida:** $\\;$ els pesos d'un classificador lineal, $\\;c(\\boldsymbol{x}) = \\operatorname{argmax}\\limits_c\\; g_c(\\boldsymbol{x}),\\;$ amb $\\,g_c(\\boldsymbol{x})=\\boldsymbol{w}_c^t\\,\\boldsymbol{x} + w_{c0}\\,$ per a tot $c$\n",
    "\n",
    "**Notació homogènia o compacta:** $\\;\\boldsymbol{x}=(1,x_1,\\dotsc,x_D)^t\\,$ i $\\,\\boldsymbol{w}_c=(w_{c0},w_{c1},\\dotsc,w_{cD})^t;\\quad$ així, $\\;g_c(\\boldsymbol{x})=\\boldsymbol{w}_c^t\\,\\boldsymbol{x}$\n",
    "\n",
    "**Objectiu:** $\\;$ minimitzar el nombre d'errors en entrenament\n",
    "$$\\mathcal{L}(\\{\\boldsymbol{w}_c\\})%\n",
    "=\\sum\\nolimits_n\\mathbb{I}(y_n\\neq c(\\boldsymbol{x}_n))%\n",
    "=\\sum\\nolimits_n\\mathbb{I}(\\max\\nolimits_{c\\neq y_n}g_c(\\boldsymbol{x}_n)>g_{y_n}(\\boldsymbol{x}_n))$$\n",
    "\n",
    "**Objectiu amb marge $b\\geq 0$:** $\\;$ extensió de l'objectiu bàsic ($b=0$) per tal de generalitzar millor\n",
    "$$\\mathcal{L}(\\{\\boldsymbol{w}_c\\})%\n",
    "=\\sum\\nolimits_n\\mathbb{I}(\\max\\nolimits_{c\\neq y_n}g_c(\\boldsymbol{x}_n)+b>g_{y_n}(\\boldsymbol{x}_n))$$\n",
    "*Interpretació:* $\\;$ la pseudo-probabilitat de pertànyer a la classe correcta ha de superar la de qualsevol classe rival amb almenys un marge $b$\n",
    "\n",
    "**Algorisme Perceptró:** $\\;$ versió bàsica amb **factor d'aprenentatge** $\\,\\alpha>0\\,$ per a controlar la velocitat de l'aprenentatge"
   ]
  },
  {
   "cell_type": "code",
   "execution_count": 1,
   "metadata": {},
   "outputs": [],
   "source": [
    "import numpy as np\n",
    "def perceptro(X, y, b=0.1, a=1.0, K=200):\n",
    "    N, D = X.shape; Y = np.unique(y); C = Y.size; W = np.zeros((1+D, C))\n",
    "    for k in range(1, K+1):\n",
    "        E = 0\n",
    "        for n in range(N):\n",
    "            xn = np.array([1, *X[n, :]])\n",
    "            cn = np.squeeze(np.where(Y==y[n]))\n",
    "            gn = W[:,cn].T @ xn; err = False\n",
    "            for c in np.arange(C):\n",
    "                if c != cn and W[:,c].T @ xn + b > gn:\n",
    "                    W[:, c] = W[:, c] - a*xn; err = True\n",
    "                if err:\n",
    "                    W[:, cn] = W[:, cn] + a*xn; E = E + 1\n",
    "        if E == 0:\n",
    "            break;\n",
    "    return W, E, k"
   ]
  },
  {
   "cell_type": "markdown",
   "metadata": {},
   "source": [
    "**Exemple:** $\\;C=D=2,\\,\\boldsymbol{x}_1=(0,0)^t, y_1=0, \\boldsymbol{x}_2=(1,1)^t, y_1=1$"
   ]
  },
  {
   "cell_type": "code",
   "execution_count": 2,
   "metadata": {},
   "outputs": [
    {
     "name": "stdout",
     "output_type": "stream",
     "text": [
      "W =  [[ 1.  0.]\n",
      " [-1.  2.]\n",
      " [-1.  2.]] \n",
      "E =  0 \n",
      "k =  3\n"
     ]
    }
   ],
   "source": [
    "X = np.array([[0, 0], [1, 1]]); y = np.array([0, 1], dtype=int);\n",
    "W, E, k = perceptro(X, y); print(\"W = \", W, \"\\nE = \", E, \"\\nk = \", k)"
   ]
  }
 ],
 "metadata": {
  "kernelspec": {
   "display_name": "Python 3",
   "language": "python",
   "name": "python3"
  },
  "language_info": {
   "codemirror_mode": {
    "name": "ipython",
    "version": 3
   },
   "file_extension": ".py",
   "mimetype": "text/x-python",
   "name": "python",
   "nbconvert_exporter": "python",
   "pygments_lexer": "ipython3",
   "version": "3.11.4"
  },
  "orig_nbformat": 4
 },
 "nbformat": 4,
 "nbformat_minor": 2
}
