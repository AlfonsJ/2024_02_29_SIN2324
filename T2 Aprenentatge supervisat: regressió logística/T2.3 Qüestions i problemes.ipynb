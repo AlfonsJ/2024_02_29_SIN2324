{
 "cells": [
  {
   "cell_type": "markdown",
   "metadata": {},
   "source": [
    "# T2.3 Estimació de l'error"
   ]
  },
  {
   "cell_type": "markdown",
   "metadata": {},
   "source": [
    "**2023_01_17_Qüestió 2:** $\\;$ Siga un problema de classificació en quatre classes per a dades del tipus $\\boldsymbol{x}=(x_1,x_2)^t\\in\\{0,1\\}^2$, amb les distribucions de probabilitat de la taula:\n",
    "$$\\begin{array}{|cc|cccc|c|}\\hline%\n",
    "x_1&x_2&P(c=1|\\boldsymbol{x})&P(c=2|\\boldsymbol{x})&P(c=3|\\boldsymbol{x})&P(c=4|\\boldsymbol{x})&P(\\boldsymbol{x})\\\\\\hline\n",
    "0 & 0 & 0.1 & 0.3 & 0.1 & 0.5 & 0 \\\\\n",
    "0 & 1 & 0.2 & 0.5 & 0.3 & 0 & 0.1 \\\\\n",
    "1 & 0 & 0.2 & 0.4 & 0.1 & 0.3 & 0.3 \\\\\n",
    "1 & 1 & 0.1 & 0.3 & 0.3 & 0.3 & 0.6 \\\\\n",
    "\\hline\n",
    "\\end{array}$$\n",
    "Indica en quin interval es troba l'error de Bayes, $\\varepsilon^*$:\n",
    "1. $\\varepsilon^* < 0.40$.\n",
    "2. $0.40 \\leq \\varepsilon^* < 0.45$.\n",
    "3. $0.45 \\leq \\varepsilon^* < 0.50$.\n",
    "4. $0.50 \\leq \\varepsilon^*$."
   ]
  },
  {
   "cell_type": "markdown",
   "metadata": {},
   "source": [
    "**Solució:** $\\;\\varepsilon^*=0.65$ "
   ]
  },
  {
   "cell_type": "markdown",
   "metadata": {},
   "source": [
    "**2022_01_27_Qüestió 3:** $\\;$ Siga un problema de classificació en tres classes per a dades del tipus $\\boldsymbol{x}=(x_1,x_2)^t\\in\\{0,1\\}^2$, amb les distribucions de probabilitat de la taula:\n",
    "$$\\begin{array}{|cc|ccc|c|c|}\\hline%\n",
    "x_1&x_2&P(c=1\\mid\\boldsymbol{x})&P(c=2\\mid\\boldsymbol{x})&P(c=3\\mid\\boldsymbol{x})&P(\\boldsymbol{x})&c(\\boldsymbol{x})\\\\ \\hline\n",
    "0 & 0 & 0.2 & 0.1 & 0.7 & 0.2 & 2 \\\\\n",
    "0 & 1 & 0.4 & 0.3 & 0.3 & 0 & 1 \\\\\n",
    "1 & 0 & 0.3 & 0.4 & 0.3 & 0.4 & 3 \\\\\n",
    "1 & 1 & 0.4 & 0.4 & 0.2 & 0.4 & 1 \\\\\\hline\n",
    "\\end{array}$$\n",
    "Indica en quin interval es troba l'error del classificador $c(\\boldsymbol{x})$ donat en la taula, $\\varepsilon$:\n",
    "1. $\\varepsilon < 0.25$\n",
    "2. $0.25 \\leq \\varepsilon < 0.50$\n",
    "3. $0.50 \\leq \\varepsilon < 0.75$\n",
    "4. $0.75 \\leq \\varepsilon$"
   ]
  },
  {
   "cell_type": "markdown",
   "metadata": {},
   "source": [
    "**Solución:** $\\;$ la 3 ja que $\\,\\varepsilon=0.70$"
   ]
  },
  {
   "cell_type": "markdown",
   "metadata": {},
   "source": [
    "**2022_01_13_Qüestió 2:** $\\;$ La probabilitat d'error d'un classificador s'estima que és del $20\\%$. Determina quin és el nombre mínim de mostres de test necessari, $M$, per aconseguir que l'interval de confiança al $95\\%$ del dit error no supere el $\\pm 1\\%$; açò es, $I = [19\\%,21\\%]$:\n",
    "1. $M < 2000$\n",
    "2. $2000\\leq M < 3500$\n",
    "3. $3500\\leq M < 5000$\n",
    "4. $M \\geq 5000$"
   ]
  },
  {
   "cell_type": "markdown",
   "metadata": {},
   "source": [
    "**Solució:** $\\;$ la 4 ja que $\\;M=6147$"
   ]
  }
 ],
 "metadata": {
  "language_info": {
   "name": "python"
  }
 },
 "nbformat": 4,
 "nbformat_minor": 2
}
