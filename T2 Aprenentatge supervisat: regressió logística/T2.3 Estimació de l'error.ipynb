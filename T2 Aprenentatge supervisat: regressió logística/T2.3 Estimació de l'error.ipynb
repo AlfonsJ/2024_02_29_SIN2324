{
 "cells": [
  {
   "cell_type": "markdown",
   "metadata": {},
   "source": [
    "# T2.3 Estimació de l'error"
   ]
  },
  {
   "cell_type": "markdown",
   "metadata": {},
   "source": [
    "# Índex\n",
    "\n",
    "1. Error teòric d'un classificador\n",
    "2. Error del classificador de Bayes"
   ]
  },
  {
   "cell_type": "markdown",
   "metadata": {},
   "source": [
    "# 1 Error teòric d'un classificador\n",
    "\n",
    "**Propòsit:** $\\;$ determinar la probabilitat d'error d'un classificador donat, $\\,c(\\boldsymbol{x})=\\operatorname{argmax}_c g_c(\\boldsymbol{x})$ \n",
    "\n",
    "**Error a posteriori:** $\\;$ probabilitat d'error per a un $\\,\\boldsymbol{x}\\,$ donat; ú menys la probabilitat d'encertar\n",
    "$$\\varepsilon(c(\\boldsymbol{x}))=1-P(c(\\boldsymbol{x})\\mid\\boldsymbol{x})$$"
   ]
  },
  {
   "cell_type": "markdown",
   "metadata": {},
   "source": [
    "**Error (a priori) amb $\\mathcal{X}$ discret:** $\\;$ probabilitat d'error esperada d'acord amb la **probabilitat incondicional** de $\\,\\boldsymbol{x}$\n",
    "$$\\varepsilon=\\mathbb{E}_{\\boldsymbol{x}}[\\varepsilon(c(\\boldsymbol{x}))]%\n",
    "=\\sum_{\\boldsymbol{x}}P(\\boldsymbol{x})\\,\\varepsilon(c(\\boldsymbol{x}))$$\n",
    "\n",
    "**Exemple:** $\\;\\mathcal{X}=\\{0,1\\}^2,\\,C=2$\n",
    "\n",
    "<div><table border-collapse: collapse><tr>\n",
    "<td style=\"border: none; vertical-align:top; padding:0; margin:0; text-align:center;\" width=500><center>\n",
    "\n",
    "<p style=\"text-align:center;\"><em>Coneixement teòric</em></p>\n",
    "\n",
    "|$x_1$|$x_2$|$P(\\boldsymbol{x})$|$P(1\\vert\\boldsymbol{x})$|$P(2\\vert\\boldsymbol{x})$|\n",
    "|:-:|:-:|:-:|:-:|:-:|\n",
    "|$0$|$0$|$1/2$|$1$|$0$|\n",
    "|$0$|$1$|$1/4$|$3/4$|$1/4$|\n",
    "|$1$|$0$|$1/4$|$1/4$|$3/4$|\n",
    "|$1$|$1$|$0$|$0$|$1$|\n",
    "\n",
    "</center></td>\n",
    "<td style=\"border: none; vertical-align:top; padding:0; margin:0; text-align:center;\" width=500><center>\n",
    "\n",
    "<p style=\"text-align:center;\"><em>Error teóric d'un classificador donat</em></p>\n",
    "\n",
    "|$x_1$|$x_2$|$c(\\boldsymbol{x})$|$\\varepsilon(c(\\boldsymbol{x}))$|$P(\\boldsymbol{x})\\varepsilon(c(\\boldsymbol{x}))$|\n",
    "|:-:|:-:|:-:|:-:|:-:|\n",
    "|$0$|$0$|$1$|$0$|$0$|\n",
    "|$0$|$1$|$1$|$1/4$|$1/16$|\n",
    "|$1$|$0$|$1$|$3/4$|$3/16$|\n",
    "|$1$|$1$|$2$|$0$|$0$|\n",
    "\n",
    "$$\\varepsilon=1/16+3/16=1/4$$\n",
    "\n",
    "</center></td></tr></table></div>"
   ]
  },
  {
   "cell_type": "markdown",
   "metadata": {},
   "source": [
    "**Error (a priori) amb $\\mathcal{X}$ continu:** $\\;$ probabilitat d'error esperada d'acord amb la **densitat de probabilitat incondicional** de $\\,\\boldsymbol{x}$\n",
    "$$\\varepsilon=\\mathbb{E}_{\\boldsymbol{x}}[\\varepsilon(c(\\boldsymbol{x}))]%\n",
    "=\\int p(\\boldsymbol{x})\\,\\varepsilon(c(\\boldsymbol{x}))\\,d\\boldsymbol{x}$$\n",
    "\n",
    "**Exemple:** $\\quad\\mathcal{X}=\\mathbb{R}\\quad C=2\\quad c(x)=1$\n",
    "\n",
    "*Coneixement teòric:* $\\quad p(x)=\\begin{cases}1/2&x\\in[-3/4,-1/4]\\\\1&x\\in[-1/4,1/4]\\\\1/2&x\\in[1/4, 3/4]\\end{cases}\\qquad P(c=1\\vert x)=\\begin{cases}1&x\\in[-3/4,-1/4]\\\\1/2&x\\in[-1/4,1/4]\\\\0&x\\in[1/4, 3/4]\\end{cases}$\n",
    "\n",
    "*Error teóric del classificador donat:*\n",
    "$$\\varepsilon(c(x))=\\begin{cases}0&x\\in[-3/4,-1/4]\\\\1/2&x\\in[-1/4,1/4]\\\\1&x\\in[1/4, 3/4]\\end{cases}\n",
    "\\;\\to\\;\\varepsilon=\\int p(x)\\,\\varepsilon(c(x))\\,dx=\\int_{-1/4}^{1/4}1\\cdot\\frac{1}{2}\\,dx+\\int_{1/4}^{3/4}\\frac{1}{2}\\cdot 1\\,dx=\\frac{1}{2}$$"
   ]
  },
  {
   "cell_type": "markdown",
   "metadata": {},
   "source": [
    "# 2 Error del classificador de Bayes\n",
    "\n",
    "**Classificador de Bayes o regla de decisión MAP (màxim a posteriori):** $\\quad c^*(\\boldsymbol{x})=\\operatorname*{argmax}_c\\; P(c\\mid\\boldsymbol{x})$"
   ]
  },
  {
   "cell_type": "markdown",
   "metadata": {},
   "source": [
    "**Error de Bayes a posteriori:** $\\quad\\varepsilon(c^*(\\boldsymbol{x}))=1-P(c^*(\\boldsymbol{x})\\mid\\boldsymbol{x})=1-\\max_c P(c\\mid\\boldsymbol{x})$"
   ]
  },
  {
   "cell_type": "markdown",
   "metadata": {},
   "source": [
    "**Error de Bayes (a priori) amb $\\mathcal{X}$ discret:** $\\quad\\varepsilon^*=\\mathbb{E}_{\\boldsymbol{x}}[\\varepsilon(c^*(\\boldsymbol{x}))]=\\sum_{\\boldsymbol{x}}P(\\boldsymbol{x})\\,\\varepsilon(c^*(\\boldsymbol{x}))$\n",
    "\n",
    "**Exemple (cont.):** $\\;\\mathcal{X}=\\{0,1\\}^2,\\,C=2$\n",
    "\n",
    "<div><table border-collapse: collapse><tr>\n",
    "<td style=\"border: none; vertical-align:top; padding:0; margin:0; text-align:center;\" width=500><center>\n",
    "\n",
    "<p style=\"text-align:center;\"><em>Coneixement teòric</em></p>\n",
    "\n",
    "|$x_1$|$x_2$|$P(\\boldsymbol{x})$|$P(1\\vert\\boldsymbol{x})$|$P(2\\vert\\boldsymbol{x})$|\n",
    "|:-:|:-:|:-:|:-:|:-:|\n",
    "|$0$|$0$|$1/2$|$1$|$0$|\n",
    "|$0$|$1$|$1/4$|$3/4$|$1/4$|\n",
    "|$1$|$0$|$1/4$|$1/4$|$3/4$|\n",
    "|$1$|$1$|$0$|$0$|$1$|\n",
    "\n",
    "</center></td>\n",
    "<td style=\"border: none; vertical-align:top; padding:0; margin:0; text-align:center;\" width=500><center>\n",
    "\n",
    "<p style=\"text-align:center;\"><em>Error de Bayes</em></p>\n",
    "\n",
    "|$x_1$|$x_2$|$c^*(\\boldsymbol{x})$|$\\varepsilon(c(\\boldsymbol{x}))$|$P(\\boldsymbol{x})\\varepsilon(c^*(\\boldsymbol{x}))$|\n",
    "|:-:|:-:|:-:|:-:|:-:|\n",
    "|$0$|$0$|$1$|$0$|$0$|\n",
    "|$0$|$1$|$1$|$1/4$|$1/16$|\n",
    "|$1$|$0$|$2$|$3/4$|$1/16$|\n",
    "|$1$|$1$|$2$|$0$|$0$|\n",
    "\n",
    "$$\\varepsilon=1/16+1/16=1/8$$\n",
    "\n",
    "</center></td></tr></table></div>"
   ]
  },
  {
   "cell_type": "markdown",
   "metadata": {},
   "source": [
    "**Error de Bayes (a priori) amb $\\mathcal{X}$ continu:** $\\quad\\varepsilon^*=\\mathbb{E}_{\\boldsymbol{x}}[\\varepsilon(c^*(\\boldsymbol{x}))]=\\int p(\\boldsymbol{x})\\,\\varepsilon(c^*(\\boldsymbol{x}))\\,d\\boldsymbol{x}$\n",
    "\n",
    "**Exemple (cont.):** $\\quad\\mathcal{X}=\\mathbb{R}\\quad C=2\\quad c^*(x)=1+\\mathbb{I}(1/4\\leq x\\leq 3/4)$\n",
    "\n",
    "*Coneixement teòric:* $\\quad p(x)=\\begin{cases}1/2&x\\in[-3/4,-1/4]\\\\1&x\\in[-1/4,1/4]\\\\1/2&x\\in[1/4, 3/4]\\end{cases}\\qquad P(c=1\\vert x)=\\begin{cases}1&x\\in[-3/4,-1/4]\\\\1/2&x\\in[-1/4,1/4]\\\\0&x\\in[1/4, 3/4]\\end{cases}$\n",
    "\n",
    "*Error de Bayes:* $\\displaystyle\\quad\\varepsilon(c^*(x))=\\begin{cases}0&x\\in[-3/4,-1/4]\\\\1/2&x\\in[-1/4,1/4]\\\\0&x\\in[1/4, 3/4]\\end{cases}\\;\\to\\;\\varepsilon^*=\\int p(x)\\,\\varepsilon(c^*(x))\\,dx=\\int_{-1/4}^{1/4}1\\cdot\\frac{1}{2}\\,dx=\\frac{1}{4}$"
   ]
  }
 ],
 "metadata": {
  "kernelspec": {
   "display_name": "Python 3",
   "language": "python",
   "name": "python3"
  },
  "language_info": {
   "codemirror_mode": {
    "name": "ipython",
    "version": 3
   },
   "file_extension": ".py",
   "mimetype": "text/x-python",
   "name": "python",
   "nbconvert_exporter": "python",
   "pygments_lexer": "ipython3",
   "version": "3.11.4"
  },
  "orig_nbformat": 4
 },
 "nbformat": 4,
 "nbformat_minor": 2
}
