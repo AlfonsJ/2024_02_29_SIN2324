{
 "cells": [
  {
   "cell_type": "markdown",
   "metadata": {},
   "source": [
    "# T2.3 Estimació de l'error"
   ]
  },
  {
   "cell_type": "markdown",
   "metadata": {},
   "source": [
    "# Índex\n",
    "\n",
    "1. Error teòric d'un classificador"
   ]
  },
  {
   "cell_type": "markdown",
   "metadata": {},
   "source": [
    "# 1 Error teòric d'un classificador\n",
    "\n",
    "**Propòsit:** $\\;$ determinar la probabilitat d'error d'un classificador donat, $\\,c(\\boldsymbol{x})=\\operatorname{argmax}_c g_c(\\boldsymbol{x})$ \n",
    "\n",
    "**Error a posteriori:** $\\;$ probabilitat d'error per a un $\\,\\boldsymbol{x}\\,$ donat; ú menys la probabilitat d'encertar\n",
    "$$\\varepsilon(c(\\boldsymbol{x}))=1-P(c(\\boldsymbol{x})\\mid\\boldsymbol{x})$$\n",
    "\n",
    "**Error (a priori):** $\\;$ probabilitat d'error esperada d'acord amb la probabilitat d'ocurrència de cada $\\,\\boldsymbol{x}$\n",
    "$$\\varepsilon=\\mathbb{E}_{\\boldsymbol{x}}[\\varepsilon(c(\\boldsymbol{x}))]%\n",
    "=\\sum_{\\boldsymbol{x}}P(\\boldsymbol{x})\\,\\varepsilon(c(\\boldsymbol{x}))$$\n",
    "\n",
    "**Exemple:** $\\;\\mathcal{X}=\\{0,1\\}^2,\\,C=2$\n",
    "\n",
    "<center>\n",
    "\n",
    "|$x_1$|$x_2$|$c(\\boldsymbol{x})$|\n",
    "|:-:|:-:|:-:|\n",
    "|$0$|$0$|$1$|\n",
    "|$0$|$1$|$1$|\n",
    "|$1$|$0$|$1$|\n",
    "|$1$|$1$|$2$|\n",
    "\n",
    "</center>"
   ]
  }
 ],
 "metadata": {
  "kernelspec": {
   "display_name": "Python 3",
   "language": "python",
   "name": "python3"
  },
  "language_info": {
   "codemirror_mode": {
    "name": "ipython",
    "version": 3
   },
   "file_extension": ".py",
   "mimetype": "text/x-python",
   "name": "python",
   "nbconvert_exporter": "python",
   "pygments_lexer": "ipython3",
   "version": "3.11.4"
  },
  "orig_nbformat": 4
 },
 "nbformat": 4,
 "nbformat_minor": 2
}
