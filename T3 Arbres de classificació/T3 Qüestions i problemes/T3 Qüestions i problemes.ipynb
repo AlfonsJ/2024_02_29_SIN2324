{
 "cells": [
  {
   "cell_type": "markdown",
   "metadata": {},
   "source": [
    "# T3 Arbres de classificació"
   ]
  },
  {
   "cell_type": "markdown",
   "metadata": {},
   "source": [
    "**2023_01_26_Qüestió 3:** $\\;$ Considereu l'algorisme d'aprenentatge d'arbres de classificació aplicat a un problema de quatre classes, $c=1,2,3,4$. L'algorisme ha arribat a un node $t$ amb les següents dades: $2$ de la classe $1$, $16$ de la $2$, $8$ de la $3$ i $256$ de la $4$. La impuresa de $t$, $\\mathcal{I}(t)$, mesurada com l'entropia de la distribució empírica de les probabilitats a posteriori de les classes en $t$, és:\n",
    "1. $0.00\\leq \\mathcal{I}(t)<0.50$\n",
    "2. $0.50\\leq \\mathcal{I}(t)<1.00$\n",
    "3. $1.00\\leq \\mathcal{I}(t)<1.50$\n",
    "4. $1.50\\leq \\mathcal{I}(t)$"
   ]
  },
  {
   "cell_type": "markdown",
   "metadata": {},
   "source": [
    "**Solució:** $\\;$ la 2.\n",
    "$$\\begin{align*}\n",
    "\\mathcal{I}(t) &= -\\sum_{c=1}^4 \\hat{P}(c\\mid t)\\,\\log_2 \\hat{P}(c\\mid t)\\\\\n",
    "&= -\\frac{2}{282}\\log_2 \\frac{2}{282} -\\frac{16}{282}\\log_2 \\frac{16}{282} -\\frac{8}{282}\\log_2 \\frac{8}{282}-\\frac{256}{282}\\log_2 \\frac{256}{282}=0.56\n",
    "\\end{align*}$$"
   ]
  },
  {
   "cell_type": "markdown",
   "metadata": {},
   "source": [
    "**2023_01_17_Qüestió 5:** $\\;$ Considereu l'algorisme d'aprenentatge d'arbres de classificació aplicat a un problema de dues classes, $c=A,B$. L'algorisme ha arribat a un node $t$ la impuressa del qual, mesurada com l'entropia de la distribució empírica de les probabilitats a posteriori de les classes en $t$, és $I=0.72$. Quin és el nombre de mostres de cadascuna de les classes en el node $t$?\n",
    "1. 2 de classe A i 32 de classe B\n",
    "2. 2 de classe A i 16 de classe B\n",
    "3. 4 de classe A i 32 de classe B\n",
    "4. 4 de classe A i 16 de classe B"
   ]
  },
  {
   "cell_type": "markdown",
   "metadata": {},
   "source": [
    "**Solució:** $\\;$ la 4."
   ]
  },
  {
   "cell_type": "markdown",
   "metadata": {},
   "source": [
    "**2023_01_17_Qüestió 6:** "
   ]
  },
  {
   "cell_type": "code",
   "execution_count": 1,
   "metadata": {},
   "outputs": [],
   "source": [
    "import numpy as np; import matplotlib.pyplot as plt;\n",
    "fig = plt.figure(figsize=(2, 2)); plt.xlim([0, 6]); plt.ylim([0, 6])\n",
    "ticks = np.arange(0, 7); plt.xticks(ticks); plt.yticks(ticks); plt.grid()\n",
    "X = np.array([[1,1], [1,5], [2,1], [2,3], [3,1], [3,5], [4,1], [5,1], [1,3], [2,5], [3,3], [5,3], [5,4], [5,5]])\n",
    "y = np.array([1, 1, 1, 1, 1, 1, 1, 1, 2, 2, 2, 2, 2, 2])\n",
    "plt.scatter(*X.T, c=y, cmap=plt.cm.binary, edgecolors='black')\n",
    "plt.plot((0,6),(2,2), (0,4),(4,4), (4,4),(2,6), color='black')\n",
    "plt.savefig('2023_01_17_Q6.svg', format='svg'); plt.close(fig)"
   ]
  },
  {
   "cell_type": "code",
   "execution_count": 2,
   "metadata": {},
   "outputs": [],
   "source": [
    "import graphviz\n",
    "graphviz.Source('''digraph { rankdir=TB splines=false node[shape=oval margin=0.02 width=0 height=0]\n",
    "A[label=<x2 &le; 2>] L[label=\" \" shape=circle] R[label=<x1 &le; 4>] A->{L, R}\n",
    "RL[label=<x2 &le; 4>] RR[label=\" \" shape=circle style=filled color=black] R->{RL, RR}\n",
    "RLL[label=\" \" shape=circle style=filled color=black] RLR[label=\" \" shape=circle] RL->{RLL, RLR}\n",
    "}''').render(filename='2023_01_17_Q61', format='svg')\n",
    "graphviz.Source('''digraph { rankdir=TB splines=false node[shape=oval margin=0.02 width=0 height=0]\n",
    "A[label=<x2 &le; 4>] L[label=\" \" shape=circle] R[label=<x1 &le; 4>] A->{L, R}\n",
    "RL[label=<x2 &le; 2>] RR[label=\" \" shape=circle style=filled color=black] R->{RL, RR}\n",
    "RLL[label=\" \" shape=circle style=filled color=black] RLR[label=\" \" shape=circle] RL->{RLL, RLR}\n",
    "}''').render(filename='2023_01_17_Q62', format='svg')\n",
    "graphviz.Source('''digraph { rankdir=TB splines=false node[shape=oval margin=0.02 width=0 height=0]\n",
    "A[label=<x2 &le; 2>] L[label=\" \" shape=circle] R[label=<x1 &le; 4>] A->{L, R}\n",
    "RL[label=<x2 &le; 4>] RR[label=\" \" shape=circle] R->{RL, RR}\n",
    "RLL[label=\" \" shape=circle style=filled color=black] RLR[label=\" \" shape=circle] RL->{RLL, RLR}\n",
    "}''').render(filename='2023_01_17_Q63', format='svg')\n",
    "graphviz.Source('''digraph { rankdir=TB splines=false node[shape=oval margin=0.02 width=0 height=0]\n",
    "A[label=<x2 &le; 2>] L[label=\" \" shape=circle] R[label=<x1 &le; 4>] A->{L, R}\n",
    "RL[label=<x2 &le; 4>] RR[label=\" \" shape=circle style=filled color=black] R->{RL, RR}\n",
    "RLL[label=\" \" shape=circle] RLR[label=\" \" shape=circle style=filled color=black] RL->{RLL, RLR}\n",
    "}''').render(filename='2023_01_17_Q64', format='svg');"
   ]
  },
  {
   "cell_type": "markdown",
   "metadata": {},
   "source": [
    "La figura següent mostra un conjunt de dades 2d de dues classes juntament amb una partició de l'espai en $4$ regions, així com quatre possibles arbres de classificació. Quin dels quatre és coherent amb les dades i partició representats?"
   ]
  },
  {
   "cell_type": "markdown",
   "metadata": {},
   "source": [
    "<div align=center>\n",
    "<table><tr>\n",
    "<td style=\"border: none; text-align:center;\">\n",
    "\n",
    "**Dades i partició**\n",
    "\n",
    "<img src=\"2023_01_17_Q6.svg\" width=\"250\"/></td>\n",
    "<td style=\"border: none; text-align:center;\">\n",
    "\n",
    "**Arbre 1**\n",
    "\n",
    "<img src=\"2023_01_17_Q61.svg\" width=\"150\"/></td>\n",
    "<td style=\"border: none; text-align:center;\">\n",
    "\n",
    "**Arbre 2**\n",
    "\n",
    "<img src=\"2023_01_17_Q62.svg\" width=\"150\"/></td>\n",
    "<td style=\"border: none; text-align:center;\">\n",
    "\n",
    "**Arbre 3**\n",
    "\n",
    "<img src=\"2023_01_17_Q63.svg\" width=\"150\"/></td>\n",
    "<td style=\"border: none; text-align:center;\">\n",
    "\n",
    "**Arbre 4**\n",
    "\n",
    "<img src=\"2023_01_17_Q64.svg\" width=\"150\"/></td>\n",
    "<tr></table>\n",
    "</div>"
   ]
  },
  {
   "cell_type": "markdown",
   "metadata": {},
   "source": [
    "\n",
    "**Solució:** $\\;$ l'arbre 1. "
   ]
  },
  {
   "cell_type": "markdown",
   "metadata": {},
   "source": [
    "**2022_01_27_Qüestió 1:** $\\;$ Siguen els següents 3 nodes d'un arbre  de classificació amb mostres pertanyents a 3 classes: \n",
    "$$\\begin{array}{c|ccc}\n",
    "c & 1 & 2 & 3\\\\\\hline\n",
    "n_{1} & 2/12 & 5/12 & 5/12\\\\\n",
    "n_{2} & 3/11 & 4/11 & 4/11\\\\\n",
    "n_{3} & 5/11 & 3/11 & 3/11\\\\\n",
    "\\end{array}$$\n",
    "on cada fila indica la probabilitat \"a posteriori\" de cada classe en el node. Quina de les següents desigualtats és certa?\n",
    "1. $\\mathcal{I}(n_{1}) < \\mathcal{I}(n_{3}) < \\mathcal{I}(n_{2})$\n",
    "2. $\\mathcal{I}(n_{3}) < \\mathcal{I}(n_{2}) < \\mathcal{I}(n_{1})$\n",
    "3. $\\mathcal{I}(n_{1}) < \\mathcal{I}(n_{2}) < \\mathcal{I}(n_{3})$\n",
    "4. $\\mathcal{I}(n_{2}) < \\mathcal{I}(n_{3}) < \\mathcal{I}(n_{1})$"
   ]
  },
  {
   "cell_type": "markdown",
   "metadata": {},
   "source": [
    "**Solució:** $\\;$ la 1."
   ]
  },
  {
   "cell_type": "markdown",
   "metadata": {},
   "source": [
    "**2022_01_13_Qüestió 5:** Siga el següent conjunt de dades utilitzat per a entrenar un arbre de classificació amb 5 mostres bidimensionals que pertanyen a 2 classes:\n",
    "$$\\begin{array}{c|ccccc}\n",
    "n & 1 & 2 & 3 & 4 & 5\\\\\\hline\n",
    "x_{n1} & 2 & 5 & 4 & 3 & 3\\\\\n",
    "x_{n2} & 4 & 1 & 2 & 5 & 2\\\\\n",
    "c_n & 1 & 1 & 2 & 2 & 2\\\\\n",
    "\\end{array}$$\n",
    "Quantes particions diferents es podrien generar en el node arrel? No consideres les particions en les quals totes les dades s'assignen al mateix node fill.\n",
    "1. $7$\n",
    "2. $8$\n",
    "3. $5$\n",
    "4. $6$"
   ]
  },
  {
   "cell_type": "markdown",
   "metadata": {},
   "source": [
    "**Solució:** $\\;$ la 4."
   ]
  }
 ],
 "metadata": {
  "kernelspec": {
   "display_name": "Python 3",
   "language": "python",
   "name": "python3"
  },
  "language_info": {
   "codemirror_mode": {
    "name": "ipython",
    "version": 3
   },
   "file_extension": ".py",
   "mimetype": "text/x-python",
   "name": "python",
   "nbconvert_exporter": "python",
   "pygments_lexer": "ipython3",
   "version": "3.11.4"
  }
 },
 "nbformat": 4,
 "nbformat_minor": 2
}
