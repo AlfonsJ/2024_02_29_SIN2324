{
 "cells": [
  {
   "cell_type": "markdown",
   "metadata": {},
   "source": [
    "# T3 Arbres de classificació"
   ]
  },
  {
   "cell_type": "markdown",
   "metadata": {},
   "source": [
    "**2023_01_17_Qüestió 5:** $\\;$ Suposeu que estem aplicant l'algorisme d'aprenentatge d'arbres de classificació per a un problema de dues classes, $c=A,B$. L'algorisme ha arribat a un node $t$ la impuressa del qual, mesurada com l'entropia de la distribució empírica de les probabilitats a posteriori de les classes en $t$, és $I=0.72$. Quin és el nombre de mostres de cadascuna de les classes en el node $t$?\n",
    "1. 2 de classe A i 32 de classe B\n",
    "2. 2 de classe A i 16 de classe B\n",
    "3. 4 de classe A i 32 de classe B\n",
    "4. 4 de classe A i 16 de classe B"
   ]
  },
  {
   "cell_type": "markdown",
   "metadata": {},
   "source": [
    "**Solució:** $\\;$ la 4."
   ]
  },
  {
   "cell_type": "markdown",
   "metadata": {},
   "source": [
    "**2023_01_17_Qüestió 6:** $\\;$ Siga el conjunt de mostres de 2 classes ($\\circ$ i $\\bullet$) de la figura:"
   ]
  },
  {
   "cell_type": "code",
   "execution_count": 1,
   "metadata": {},
   "outputs": [
    {
     "data": {
      "image/png": "[encoded data removed]",
      "text/plain": [
       "<Figure size 200x200 with 1 Axes>"
      ]
     },
     "metadata": {},
     "output_type": "display_data"
    }
   ],
   "source": [
    "import numpy as np; import matplotlib.pyplot as plt\n",
    "plt.figure(figsize=(2, 2)); ticks = np.arange(0, 7); plt.xticks(ticks); plt.yticks(ticks); plt.grid()"
   ]
  },
  {
   "cell_type": "markdown",
   "metadata": {},
   "source": [
    "\n",
    "\n",
    "¿Quin dels següents arbres de classificació és coherent amb la partició representada?\n"
   ]
  }
 ],
 "metadata": {
  "kernelspec": {
   "display_name": "Python 3",
   "language": "python",
   "name": "python3"
  },
  "language_info": {
   "codemirror_mode": {
    "name": "ipython",
    "version": 3
   },
   "file_extension": ".py",
   "mimetype": "text/x-python",
   "name": "python",
   "nbconvert_exporter": "python",
   "pygments_lexer": "ipython3",
   "version": "3.11.4"
  }
 },
 "nbformat": 4,
 "nbformat_minor": 2
}
