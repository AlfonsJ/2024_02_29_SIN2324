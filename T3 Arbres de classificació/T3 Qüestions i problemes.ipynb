{
 "cells": [
  {
   "cell_type": "markdown",
   "metadata": {},
   "source": [
    "# T3 Arbres de classificació"
   ]
  },
  {
   "cell_type": "markdown",
   "metadata": {},
   "source": [
    "**2023_01_17_Qüestió 5:** $\\;$ Suposeu que estem aplicant l'algorisme d'aprenentatge d'arbres de classificació per a un problema de dues classes, $c=A,B$. L'algorisme ha arribat a un node $t$ la impuressa del qual, mesurada com l'entropia de la distribució empírica de les probabilitats a posteriori de les classes en $t$, és $I=0.72$. Quin és el nombre de mostres de cadascuna de les classes en el node $t$?\n",
    "1. 2 de classe A i 32 de classe B\n",
    "2. 2 de classe A i 16 de classe B\n",
    "3. 4 de classe A i 32 de classe B\n",
    "4. 4 de classe A i 16 de classe B"
   ]
  },
  {
   "cell_type": "markdown",
   "metadata": {},
   "source": [
    "**Solució:** $\\;$ la 4."
   ]
  }
 ],
 "metadata": {
  "language_info": {
   "name": "python"
  }
 },
 "nbformat": 4,
 "nbformat_minor": 2
}
