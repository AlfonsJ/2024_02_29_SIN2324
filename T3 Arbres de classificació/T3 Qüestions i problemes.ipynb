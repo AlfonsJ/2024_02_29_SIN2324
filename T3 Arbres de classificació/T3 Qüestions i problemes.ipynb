{
 "cells": [
  {
   "cell_type": "markdown",
   "metadata": {},
   "source": [
    "# T3 Arbres de classificació"
   ]
  },
  {
   "cell_type": "markdown",
   "metadata": {},
   "source": [
    "**2023_01_17_Qüestió 5:** $\\;$ Suposeu que estem aplicant l'algorisme d'aprenentatge d'arbres de classificació per a un problema de dues classes, $c=A,B$. L'algorisme ha arribat a un node $t$ la impuressa del qual, mesurada com l'entropia de la distribució empírica de les probabilitats a posteriori de les classes en $t$, és $I=0.72$. Quin és el nombre de mostres de cadascuna de les classes en el node $t$?\n",
    "1. 2 de classe A i 32 de classe B\n",
    "2. 2 de classe A i 16 de classe B\n",
    "3. 4 de classe A i 32 de classe B\n",
    "4. 4 de classe A i 16 de classe B"
   ]
  },
  {
   "cell_type": "markdown",
   "metadata": {},
   "source": [
    "**Solució:** $\\;$ la 4."
   ]
  },
  {
   "cell_type": "markdown",
   "metadata": {},
   "source": [
    "**2023_01_17_Qüestió 6:** "
   ]
  },
  {
   "cell_type": "code",
   "execution_count": 7,
   "metadata": {},
   "outputs": [],
   "source": [
    "import numpy as np; import matplotlib.pyplot as plt;\n",
    "fig = plt.figure(figsize=(2, 2)); ticks = np.arange(0, 7); plt.xticks(ticks); plt.yticks(ticks); plt.grid()\n",
    "X = np.array([[1,1], [1,5], [2,1], [2,3], [3,1], [3,5], [4,1], [5,1], [1,3], [2,5], [3,3], [5,3], [5,4], [5,5]])\n",
    "y = np.array([1, 1, 1, 1, 1, 1, 1, 1, 2, 2, 2, 2, 2, 2]); plt.scatter(*X.T, c=y);\n",
    "plt.plot((0,6),(2,2), (0,4),(4,4), (4,4),(2,6), color='black'); \n",
    "plt.savefig('2023_01_17_Q6.svg', format='svg'); plt.close(fig)"
   ]
  },
  {
   "cell_type": "code",
   "execution_count": 34,
   "metadata": {},
   "outputs": [],
   "source": [
    "import graphviz\n",
    "graphviz.Source('''digraph { rankdir=TB splines=false node[shape=oval margin=0.02 width=0 height=0]\n",
    "A[label=<x2 &le; 2>] L[label=\" \" shape=circle] R[label=<x1 &le; 4>] A->{L, R}\n",
    "RL[label=<x2 &le; 4>] RR[label=\" \" shape=circle style=filled color=black] R->{RL, RR}\n",
    "RLL[label=\" \" shape=circle style=filled color=black] RLR[label=\" \" shape=circle] RL->{RLL, RLR}\n",
    "}''').render(filename='2023_01_17_Q61', format='svg')\n",
    "graphviz.Source('''digraph { rankdir=TB splines=false node[shape=oval margin=0.02 width=0 height=0]\n",
    "A[label=<x2 &le; 4>] L[label=\" \" shape=circle] R[label=<x1 &le; 4>] A->{L, R}\n",
    "RL[label=<x2 &le; 2>] RR[label=\" \" shape=circle style=filled color=black] R->{RL, RR}\n",
    "RLL[label=\" \" shape=circle style=filled color=black] RLR[label=\" \" shape=circle] RL->{RLL, RLR}\n",
    "}''').render(filename='2023_01_17_Q62', format='svg')\n",
    "graphviz.Source('''digraph { rankdir=TB splines=false node[shape=oval margin=0.02 width=0 height=0]\n",
    "A[label=<x2 &le; 2>] L[label=\" \" shape=circle] R[label=<x1 &le; 4>] A->{L, R}\n",
    "RL[label=<x2 &le; 4>] RR[label=\" \" shape=circle] R->{RL, RR}\n",
    "RLL[label=\" \" shape=circle style=filled color=black] RLR[label=\" \" shape=circle] RL->{RLL, RLR}\n",
    "}''').render(filename='2023_01_17_Q63', format='svg')\n",
    "graphviz.Source('''digraph { rankdir=TB splines=false node[shape=oval margin=0.02 width=0 height=0]\n",
    "A[label=<x2 &le; 2>] L[label=\" \" shape=circle] R[label=<x1 &le; 4>] A->{L, R}\n",
    "RL[label=<x2 &le; 4>] RR[label=\" \" shape=circle style=filled color=black] R->{RL, RR}\n",
    "RLL[label=\" \" shape=circle] RLR[label=\" \" shape=circle style=filled color=black] RL->{RLL, RLR}\n",
    "}''').render(filename='2023_01_17_Q64', format='svg');"
   ]
  },
  {
   "cell_type": "markdown",
   "metadata": {},
   "source": [
    "La figura següent mostra un conjunt de mostres 2d de dues classes juntament amb una partició de l'espai en $4$ regions:\n",
    "Quin dels següents arbres de classificació és coherent amb la partició representada?\n"
   ]
  },
  {
   "cell_type": "markdown",
   "metadata": {},
   "source": [
    "<div align=\"center\">\n",
    "<table><tr>\n",
    "<td style=\"border: none;\"><img src=\"2023_01_17_Q6.svg\" height=\"200\"/></td>\n",
    "<td style=\"border: none;\"><img src=\"2023_01_17_Q61.svg\" height=\"200\"/></td>\n",
    "<td style=\"border: none;\"><img src=\"2023_01_17_Q62.svg\" height=\"200\"/></td>\n",
    "<td style=\"border: none;\"><img src=\"2023_01_17_Q63.svg\" height=\"200\"/></td>\n",
    "<td style=\"border: none;\"><img src=\"2023_01_17_Q64.svg\" height=\"200\"/></td>\n",
    "<tr></table>\n",
    "</div>"
   ]
  }
 ],
 "metadata": {
  "kernelspec": {
   "display_name": "Python 3",
   "language": "python",
   "name": "python3"
  },
  "language_info": {
   "codemirror_mode": {
    "name": "ipython",
    "version": 3
   },
   "file_extension": ".py",
   "mimetype": "text/x-python",
   "name": "python",
   "nbconvert_exporter": "python",
   "pygments_lexer": "ipython3",
   "version": "3.11.4"
  }
 },
 "nbformat": 4,
 "nbformat_minor": 2
}
