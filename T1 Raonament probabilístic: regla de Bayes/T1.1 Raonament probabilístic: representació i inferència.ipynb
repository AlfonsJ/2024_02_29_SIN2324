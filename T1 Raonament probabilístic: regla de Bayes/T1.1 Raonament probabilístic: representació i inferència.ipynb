{
 "cells": [
  {
   "cell_type": "markdown",
   "metadata": {},
   "source": [
    "# T1.1 Raonament probabilístic: representació i inferència\n"
   ]
  },
  {
   "cell_type": "markdown",
   "metadata": {},
   "source": [
    "# Índex\n",
    "\n",
    "1. El problema de la qualificació\n",
    "2. Representació probabilística\n",
    "3. Inferència probabilística\n",
    "4. Independència\n",
    "5. Teorema de Bayes"
   ]
  },
  {
   "cell_type": "markdown",
   "metadata": {},
   "source": [
    "# 1 El problema de la qualificació\n",
    "\n",
    "**Problema de la qualificació:** $\\;$ impossibilitat pràctica de conèixer i comprovar totes les **qualificacions** (condicions) que caldria garantir per tal d'assegurar el compliment d'una acció\n",
    "* Exemple: $\\;$ eixir a l'aeroport 90 minuts abans del vol em permet arribar a temps SI no hi ha embossos I no hi ha punxades I ...\n",
    "* Exemple: $\\;$ un bot ens permet creuar un riu SI és un bot de rem I té rems i escàlems I no estan trencats I encaixen I ...\n",
    "\n",
    "**Incertesa:** $\\;$ els sistemes intel·ligents actuals inclouen la **incertesa** com a part del coneixement i la representen mitjançant **probabilitats** associades als successos (proposicions) d'interés"
   ]
  },
  {
   "cell_type": "markdown",
   "metadata": {},
   "source": [
    "# 2 Representació probabilística\n",
    "\n",
    "<div><table border-collapse: collapse><tr>\n",
    "<td style=\"border: none; text-align:left; vertical-align:top; padding:0; margin:0;\" width=500>\n",
    "\n",
    "**Distribució de probabilitat conjunta:** $\\;$ de les variables aleatòries d'interès per tal de representar el coneixement probabilístic\n",
    "\n",
    "**Exemple del dentista:** $\\;$ coneixement per a diagnosticar càries \n",
    "\n",
    "*Variables aleatòries d'interès:*\n",
    "\n",
    "\\begin{align*}\n",
    "&\\text{Dolor:} & D&\\in\\{0,1\\}\\\\\n",
    "&\\text{Càries:}& C&\\in\\{0,1\\}\\\\\n",
    "&\\text{Buit:}  & B&\\in\\{0,1\\}  \n",
    "\\end{align*}\n",
    "\n",
    "*Representació:* $\\;$ taula a la dreta amb\n",
    "$$P(D=d, C=c, B=b)\\quad\\text{per a tot}\\;d, c, b\\in\\{0,1\\}$$\n",
    "\n",
    "</td><td style=\"border: none; text-align:center; vertical-align:top; padding:0; margin:0;\" width=400>\n",
    "\n",
    "<center>\n",
    "\n",
    "|$d$|$c$|$b$|$P$|\n",
    "|:-:|:-:|:-:|:-:|\n",
    "|$0$|$0$|$0$|$0.576$|\n",
    "|$0$|$0$|$1$|$0.008$|\n",
    "|$0$|$1$|$0$|$0.144$|\n",
    "|$0$|$1$|$1$|$0.072$|\n",
    "|$1$|$0$|$0$|$0.064$|\n",
    "|$1$|$0$|$1$|$0.012$|\n",
    "|$1$|$1$|$0$|$0.016$|\n",
    "|$1$|$1$|$1$|$0.108$|\n",
    "||||$1.000$|\n",
    "\n",
    "</center>\n",
    "\n",
    "</td></tr></table></div>\n",
    "\n",
    "\n",
    "\n",
    "\n"
   ]
  },
  {
   "cell_type": "code",
   "execution_count": 1,
   "metadata": {},
   "outputs": [
    {
     "data": {
      "text/plain": [
       "array([[0.   , 0.   , 0.   , 0.576],\n",
       "       [0.   , 0.   , 1.   , 0.008],\n",
       "       [0.   , 1.   , 0.   , 0.144],\n",
       "       [0.   , 1.   , 1.   , 0.072],\n",
       "       [1.   , 0.   , 0.   , 0.064],\n",
       "       [1.   , 0.   , 1.   , 0.012],\n",
       "       [1.   , 1.   , 0.   , 0.016],\n",
       "       [1.   , 1.   , 1.   , 0.108]])"
      ]
     },
     "execution_count": 1,
     "metadata": {},
     "output_type": "execute_result"
    }
   ],
   "source": [
    "import numpy as np\n",
    "T = np.array([[0,0,0,.576], [0,0,1,.008], [0,1,0,.144], [0,1,1,.072], \n",
    "              [1,0,0,.064], [1,0,1,.012], [1,1,0,.016], [1,1,1,.108]])\n",
    "T"
   ]
  },
  {
   "cell_type": "markdown",
   "metadata": {},
   "source": [
    "# 3 Inferència probabilística\n",
    "\n",
    "**Regles suma i producte:** $\\;$ regles bàsiques per a calcular la probabilitat de qualsevol **succés** (**proposició**) \n",
    "d'interés a partir de la distribució conjunta \n",
    "$$P(x) = \\sum_y P(x,y)\\qquad\\text{i}\\qquad P(x,y) = P(x)\\,P(y\\mid x)$$\n",
    "\n",
    "**Observació important:** $\\;$ en general no és necessari conèixer la taula completa de probabilitats conjuntes per a calcular la probabilitat d'un succés donat mitjançant les regles suma i producte\n",
    "\n",
    "**Exemple del dentista:** $\\;$ càlcul de la probabilitat d'observar...\n",
    "* Càries i buit (alhora): $\\displaystyle\\;P(c=1,b=1) = \\sum_{d=0,1} P(d,c=1,b=1) = 0.180$\n",
    "* Buit: $\\displaystyle\\;P(b=1) = \\sum_{d=0,1} \\sum_{c=0,1} P(d,c,b=1) = 0.200$\n",
    "* Càries després d'observar buit: $\\displaystyle\\;P(c=1\\mid b=1) = \\frac{P(c=1,b=1)}{P(b=1)} = \\frac{0.180}{0.200} = 0.900$"
   ]
  },
  {
   "cell_type": "code",
   "execution_count": 2,
   "metadata": {},
   "outputs": [
    {
     "name": "stdout",
     "output_type": "stream",
     "text": [
      "Pc1b1 = 0.180  Pb1 = 0.200  Pc1Db1 = 0.900\n"
     ]
    }
   ],
   "source": [
    "Pc1b1 = np.sum(T[(T[:,1]==1) & (T[:,2]==1),-1])\n",
    "Pb1 = np.sum(T[T[:,2]==1,-1])\n",
    "Pc1Db1 = Pc1b1/Pb1\n",
    "print(f\"Pc1b1 = {Pc1b1:.3f}  Pb1 = {Pb1:.3f}  Pc1Db1 = {Pc1Db1:.3f}\")"
   ]
  },
  {
   "cell_type": "markdown",
   "metadata": {},
   "source": [
    "# 4 Independència\n",
    "\n",
    "**Variables independents:** $\\;$ dues variables $\\,x\\,$ i $\\,y\\,$ són **independents** si\n",
    "$$P(x,y) = P(x)\\,P(y) \\quad\\text{o}\\quad P(x\\mid y) = P(x) \\quad\\text{o}\\quad P(y\\mid x) = P(y)$$\n",
    "\n",
    "**Coneixement expert:** $\\;$ la independència pot establir-se per coneixement expert i conveniència\n",
    "\n",
    "**Exemple del dentista:**\n",
    "* Considerem una nova variable amb el temps que fa quan el pacient visita el dentista\n",
    "$$T\\in\\{\\text{sol}, \\text{núvols}, \\text{pluja}, \\text{neu}\\}$$\n",
    "* Assumim que les tres variables que ja teníem són independents del temps que fa\n",
    "$$P(d,c,b,t)=P(t)\\,P(d,c,b\\mid t)=P(t)\\,P(d,c,b)$$\n",
    "* Així reduïm el nombre de probabilitats a emmagatzemar: $\\;32\\,$ vs $\\,4+8$"
   ]
  },
  {
   "cell_type": "markdown",
   "metadata": {},
   "source": [
    "# 5 Teorema de Bayes\n",
    "\n",
    "**Teorema de Bayes:** $\\;$ permet actualitzar el nostre coneixement sobre una hipòtesi $y$ després d'observar una nova evidència $x$\n",
    "$$P(y\\mid x) ~=~ \\frac{P(x,y)}{P(x)} ~=~ P(y)\\,\\frac{P(x\\mid y)}{P(x)}$$\n",
    "* D'altra manera: $P(y\\mid x)$ és la probabilitat de que es produïsca l'efecte $y$ després d'observar que s'ha produït la causa $x$\n",
    "\n",
    "**Exemple del dentista:** $\\;$\n",
    "* Sabem que la probabilitat de càries és: $\\,P(c=1)=0.34$\n",
    "* Sabem que la probabilitat de dolor és: $\\,P(d=1)=0.20$\n",
    "* Sabem que la probabilitat de dolor després d'observar càries és: $\\,P(d=1\\mid c=1)=0.36$\n",
    "* Quina és la probabilitat de càries després d'observar dolor, $\\,P(c=1\\mid d=1)$?\n",
    "$$P(c=1\\mid d=1) = P(c=1)\\,\\frac{P(d=1\\mid c=1)}{P(d=1)} = 0.34\\,\\frac{0.36}{0.20} = 0.61$$"
   ]
  },
  {
   "cell_type": "code",
   "execution_count": 3,
   "metadata": {},
   "outputs": [
    {
     "name": "stdout",
     "output_type": "stream",
     "text": [
      "Pc1Dd1 = 0.61\n"
     ]
    }
   ],
   "source": [
    "Pc1 = 0.34; Pd1 = 0.20; Pd1c1 = 0.36; Pc1Dd1 = Pc1 * Pd1c1 / Pb1; print(f\"Pc1Dd1 = {Pc1Dd1:.2f}\")"
   ]
  }
 ],
 "metadata": {
  "kernelspec": {
   "display_name": "Python 3",
   "language": "python",
   "name": "python3"
  },
  "language_info": {
   "codemirror_mode": {
    "name": "ipython",
    "version": 3
   },
   "file_extension": ".py",
   "mimetype": "text/x-python",
   "name": "python",
   "nbconvert_exporter": "python",
   "pygments_lexer": "ipython3",
   "version": "3.11.4"
  },
  "orig_nbformat": 4
 },
 "nbformat": 4,
 "nbformat_minor": 2
}
