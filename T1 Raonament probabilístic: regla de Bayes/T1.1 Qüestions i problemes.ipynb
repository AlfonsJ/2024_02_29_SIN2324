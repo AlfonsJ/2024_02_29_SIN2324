{
 "cells": [
  {
   "cell_type": "markdown",
   "metadata": {},
   "source": [
    "**2023_01_17_Qüestiò 1:** Suposeu que tenim dues caixes amb 40 taronges en la primera i 80 en la segona. La primera caixa conté 9 taronges Navelina i 31 Caracara. La segona caixa conté tres vegades més taronges Navelina que Caracara. Ara suposeu que s'escull una caixa a l'atzar, i després una taronja a l'atzar de la caixa escollida. Si la taronja escollida és Navelina, la probabilitat $P$ de que procedisca de la primera caixa és:\n",
    "1. $0/4\\leq P<1/4$.\n",
    "2. $1/4\\leq P<2/4$.\n",
    "3. $2/4\\leq P<3/4$.\n",
    "4. $3/4\\leq P\\leq 4/4$.\n",
    "<details>\n",
    "<summary>Solució</summary>\n",
    "\n",
    "$P=0.13$\n",
    "\n",
    "</details>"
   ]
  }
 ],
 "metadata": {
  "language_info": {
   "name": "python"
  }
 },
 "nbformat": 4,
 "nbformat_minor": 2
}
