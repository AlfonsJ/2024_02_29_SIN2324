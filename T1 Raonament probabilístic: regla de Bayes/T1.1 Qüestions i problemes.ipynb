{
 "cells": [
  {
   "cell_type": "markdown",
   "metadata": {},
   "source": [
    "# T1.1 Raonament probabilístic: representació i inferència\n"
   ]
  },
  {
   "cell_type": "markdown",
   "metadata": {},
   "source": [
    "**2023_01_26_Qüestió 1:** $\\;$ Donada la següent taula de probabilitats conjuntes de tres variables d'interés:\n",
    "$$\\begin{array}{|c|cccccccc|}\\hline\n",
    "A & 0 & 0 & 0 & 0 & 1 & 1 & 1 & 1\\\\\n",
    "B & 0 & 0 & 1 & 1 & 0 & 0 & 1 & 1\\\\\n",
    "C & 0 & 1 & 0 & 1 & 0 & 1 & 0 & 1\\\\\\hline\n",
    "P(A,B,C) & 0.093 & 0.100 & 0.133 & 0.163 & 0.157 & 0.150 & 0.117 & 0.087\\\\\n",
    "\\hline\\end{array}$$\n",
    "Quin és el valor de $P(A=1, B=1 \\mid C=1)$?\n",
    "1. $P(A=1, B=1 \\mid C=1) \\leq 0.25$\n",
    "2. $0.25 < P(A=1, B=1 \\mid C=1) \\leq 0.50$\n",
    "3. $0.50 < P(A=1, B=1 \\mid C=1) \\leq 0.75$\n",
    "4. $0.75 < P(A=1, B=1 \\mid C=1)$"
   ]
  },
  {
   "cell_type": "markdown",
   "metadata": {},
   "source": [
    "**Solució:** $\\;$ la 1; $\\;P(A=1, B=1 \\mid C=1) = 0.174$"
   ]
  },
  {
   "cell_type": "code",
   "execution_count": 1,
   "metadata": {},
   "outputs": [
    {
     "name": "stdout",
     "output_type": "stream",
     "text": [
      "0.174\n"
     ]
    }
   ],
   "source": [
    "PA1B1C1 = 0.087; PC1 = 0.1 + 0.163 + 0.15 + 0.087; PA1B1_C1 = PA1B1C1 / PC1; print(PA1B1_C1)"
   ]
  },
  {
   "cell_type": "markdown",
   "metadata": {},
   "source": [
    "**2023_01_17_Qüestió 1:** $\\;$ Suposeu que tenim dues caixes amb 40 taronges en la primera i 80 en la segona. La primera caixa conté 9 taronges Navelina i 31 Caracara. La segona caixa conté tres vegades més taronges Navelina que Caracara. Ara suposeu que s'escull una caixa a l'atzar, i després una taronja a l'atzar de la caixa escollida. Si la taronja escollida és Navelina, la probabilitat $P$ de que procedisca de la primera caixa és:\n",
    "1. $0/4\\leq P<1/4$.\n",
    "2. $1/4\\leq P<2/4$.\n",
    "3. $2/4\\leq P<3/4$.\n",
    "4. $3/4\\leq P\\leq 4/4$."
   ]
  },
  {
   "cell_type": "markdown",
   "metadata": {},
   "source": [
    "**Solució:**\n",
    "$$\\begin{align*}\n",
    "P=P(C=1\\mid T=N)&=\\frac{P(C=1)P(T=N\\mid C=1)}{P(C=1)P(T=N\\mid C=1)+P(C=2)P(T=N\\mid C=2)}\\\\%\n",
    "&=\\frac{1/2\\cdot9/40}{1/2\\cdot9/40+1/2\\cdot3/4}=\\frac{9}{9+30}=0.23\n",
    "\\end{align*}$$"
   ]
  },
  {
   "cell_type": "markdown",
   "metadata": {},
   "source": [
    "**2022_01_27_Qüestió 4:** $\\;$ Donada la següent taula de freqüències conjuntes de tres variables d'interés:\n",
    "$$\\begin{array}{|c|cccccccc|}\\hline\n",
    "A & 0 & 0 & 0 & 0 & 1 & 1 & 1 & 1\\\\\n",
    "B & 0 & 0 & 1 & 1 & 0 & 0 & 1 & 1\\\\\n",
    "C & 0 & 1 & 0 & 1 & 0 & 1 & 0 & 1\\\\\\hline\n",
    "N(A,B,C) & 124 & 28 & 227 & 175 & 126 & 222 & 23 & 75\\\\\n",
    "\\hline\\end{array}$$\n",
    "Quin és el valor de $P(A=1 \\mid B=1,C=0)$?\n",
    "1. $0.023$\n",
    "2. $0.250$\n",
    "3. $0.092$\n",
    "4. $0.446$"
   ]
  },
  {
   "cell_type": "markdown",
   "metadata": {},
   "source": [
    "**Solució:** $\\;$ la 3."
   ]
  },
  {
   "cell_type": "markdown",
   "metadata": {},
   "source": [
    "**2022_01_13_Qüestió 7:** $\\;$ Siga un problema de raonament probabilístic sobre desplaçaments per carretera, amb les variables aleatòries d'interés: \n",
    "* Climatologia ($C$): \\{clar(CLA), ennuvolat (NUV), pluja (PLU)\\}\n",
    "* Lluminositat ($L$): \\{dia (DIA), nit (NIT)\\}\n",
    "* Seguretat ($S$): \\{segur (SEG), accident (ACC)\\}\n",
    "\n",
    "La probabilitat conjunta de les tres variables ve donada en la taula:\n",
    "$$\\begin{array}{c|ccc|ccc}\n",
    "& & \\text{DIA} & & & \\text{NIT}\\\\\\hline\n",
    "P(S, L, C) & \\text{CLA} & \\text{NUV} & \\text{PLU} & \\text{CLA} & \\text{NUV} & \\text{PLU}\\\\\\hline\n",
    "\\text{SEG} & 0.27 & 0.23 & 0.07 & 0.16 & 0.07 & 0.06\\\\\n",
    "\\text{ACC} & 0.02 & 0.01 & 0.02 & 0.02 & 0.03 & 0.04\\\\\\hline\\end{array}$$\n",
    "La probabilitat condicional $P(S=\\text{ACC} \\mid L=\\text{DIA},C=\\text{NUV})$ és:\n",
    "1. 0.042\n",
    "2. 0.010\n",
    "3. 0.240\n",
    "4. 0.140"
   ]
  },
  {
   "cell_type": "markdown",
   "metadata": {},
   "source": [
    "**Solució:** $\\;$ la 1."
   ]
  }
 ],
 "metadata": {
  "kernelspec": {
   "display_name": "Python 3",
   "language": "python",
   "name": "python3"
  },
  "language_info": {
   "codemirror_mode": {
    "name": "ipython",
    "version": 3
   },
   "file_extension": ".py",
   "mimetype": "text/x-python",
   "name": "python",
   "nbconvert_exporter": "python",
   "pygments_lexer": "ipython3",
   "version": "3.11.4"
  }
 },
 "nbformat": 4,
 "nbformat_minor": 2
}
