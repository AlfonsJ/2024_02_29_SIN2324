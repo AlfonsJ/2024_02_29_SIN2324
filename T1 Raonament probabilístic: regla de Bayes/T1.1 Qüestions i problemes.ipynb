{
 "cells": [
  {
   "cell_type": "markdown",
   "metadata": {},
   "source": [
    "# T1.1 Raonament probabilístic: representació i inferència\n"
   ]
  },
  {
   "cell_type": "markdown",
   "metadata": {},
   "source": [
    "**2023_01_26_Qüestió 1:** $\\;$ Donada la següent taula de probabilitats conjuntes de tres variables de interés:\n",
    "$$\\begin{array}{|c|cccccccc|}\\hline\n",
    "A & 0 & 0 & 0 & 0 & 1 & 1 & 1 & 1\\\\\n",
    "B & 0 & 0 & 1 & 1 & 0 & 0 & 1 & 1\\\\\n",
    "C & 0 & 1 & 0 & 1 & 0 & 1 & 0 & 1\\\\\\hline\n",
    "P(A,B,C) & 0.093 & 0.100 & 0.133 & 0.163 & 0.157 & 0.150 & 0.117 & 0.087\\\\\n",
    "\\hline\\end{array}$$\n",
    "Quin és el valor de $P(A=1, B=1 \\mid C=1)$?\n",
    "1. $P(A=1, B=1 \\mid C=1) \\leq 0.25$\n",
    "2. $0.25 < P(A=1, B=1 \\mid C=1) \\leq 0.50$\n",
    "3. $0.50 < P(A=1, B=1 \\mid C=1) \\leq 0.75$\n",
    "4. $0.75 < P(A=1, B=1 \\mid C=1)$"
   ]
  },
  {
   "cell_type": "markdown",
   "metadata": {},
   "source": [
    "**Solució:** $\\;$ la 1; $\\;P(A=1, B=1 \\mid C=1) = 0.174$"
   ]
  },
  {
   "cell_type": "code",
   "execution_count": 1,
   "metadata": {},
   "outputs": [
    {
     "name": "stdout",
     "output_type": "stream",
     "text": [
      "0.174\n"
     ]
    }
   ],
   "source": [
    "PA1B1C1 = 0.087; PC1 = 0.1 + 0.163 + 0.15 + 0.087; PA1B1_C1 = PA1B1C1 / PC1; print(PA1B1_C1)"
   ]
  },
  {
   "cell_type": "markdown",
   "metadata": {},
   "source": [
    "**2023_01_17_Qüestió 1:** Suposeu que tenim dues caixes amb 40 taronges en la primera i 80 en la segona. La primera caixa conté 9 taronges Navelina i 31 Caracara. La segona caixa conté tres vegades més taronges Navelina que Caracara. Ara suposeu que s'escull una caixa a l'atzar, i després una taronja a l'atzar de la caixa escollida. Si la taronja escollida és Navelina, la probabilitat $P$ de que procedisca de la primera caixa és:\n",
    "1. $0/4\\leq P<1/4$.\n",
    "2. $1/4\\leq P<2/4$.\n",
    "3. $2/4\\leq P<3/4$.\n",
    "4. $3/4\\leq P\\leq 4/4$."
   ]
  },
  {
   "cell_type": "markdown",
   "metadata": {},
   "source": [
    "**Solució:** $\\;P=0.13$"
   ]
  }
 ],
 "metadata": {
  "kernelspec": {
   "display_name": "Python 3",
   "language": "python",
   "name": "python3"
  },
  "language_info": {
   "codemirror_mode": {
    "name": "ipython",
    "version": 3
   },
   "file_extension": ".py",
   "mimetype": "text/x-python",
   "name": "python",
   "nbconvert_exporter": "python",
   "pygments_lexer": "ipython3",
   "version": "3.11.4"
  }
 },
 "nbformat": 4,
 "nbformat_minor": 2
}
