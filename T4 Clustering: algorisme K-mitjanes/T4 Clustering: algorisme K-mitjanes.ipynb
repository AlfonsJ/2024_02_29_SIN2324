{
 "cells": [
  {
   "cell_type": "markdown",
   "metadata": {},
   "source": [
    "# T4 Clustering: algorisme K-mitjanes"
   ]
  },
  {
   "cell_type": "markdown",
   "metadata": {},
   "source": [
    "# Índex\n",
    "\n",
    "1. Clustering particional\n",
    "2. Criteri suma d'errors quadràtics\n",
    "3. Algorisme $K$-mitjanes de Duda i Hart\n",
    "4. Algorisme $K$-mitjanes convencional"
   ]
  },
  {
   "cell_type": "markdown",
   "metadata": {},
   "source": [
    "# 1 Clustering particional\n",
    "\n",
    "**Clustering particional:** $\\;$ donat un conjunt de $N$ dades $\\mathcal{D}$ i un nombre de clústers $K,\\,$ el clustering particional consisteix a optimitzar alguna funció criteri $J(\\Pi)$ per a avaluar la qualitat de qualsevol partició $\\Pi$ de les dades en $K$ clústers\n",
    "$$\\Pi^* = \\operatorname*{argopt}_{\\Pi} J(\\Pi)$$\n",
    "\n",
    "**Intractabilitat:** $\\;$ el clustering particional és en general un problema intractable ja que el nombre de particions a explorar creix exponencialment amb $N$ i $K$ (veure [nombres d'Stirling del segon tipus](https://en.wikipedia.org/wiki/Stirling_numbers_of_the_second_kind))\n",
    "\n",
    "**Aproximació usual:** $\\;$ fem ús d'algorismes aproximats per a optimitzar un criteri particular com ara la suma d'errors quadràtics"
   ]
  },
  {
   "cell_type": "markdown",
   "metadata": {},
   "source": [
    "# 2 Criteri suma d'errors quadràtics\n",
    "\n",
    "**Suma d'errors quadràtics (SEQ):** $\\;$ d'una partició $\\Pi=\\{X_1,\\dotsc,X_K\\}$\n",
    "$$J(\\Pi) = \\sum_{k=1}^K J_k%\n",
    "\\quad\\text{amb}\\quad%\n",
    "J_k = \\sum_{\\boldsymbol{x}\\in X_k} \\lVert{\\boldsymbol{x}-\\boldsymbol{m}_k}\\rVert_2^2\n",
    "\\quad\\text{i}\\quad%\n",
    "\\boldsymbol{m}_k = \\frac{1}{\\lvert X_k\\rvert}\\sum_{\\boldsymbol{x}\\in X_k} \\boldsymbol{x}$$\n",
    "\n",
    "**Interpretació:**\n",
    "* Cada clúster $k$ es representa pel seu **centroide** o **mitjana** $\\,\\boldsymbol{m}_k$\n",
    "* Si $\\boldsymbol{x}$ pertany al clúster $k$, $\\boldsymbol{x}-\\boldsymbol{m}_k$ és el **vector error** obtés al representar $\\boldsymbol{x}$ amb $\\boldsymbol{m}_k$\n",
    "* L'error associat a $\\boldsymbol{x}$ es mesura amb la norma Euclidiana del seu vector error, $\\lVert{\\boldsymbol{x}-\\boldsymbol{m}_k}\\rVert_2$\n",
    "* Anomenem **distorsió** del clúster $k$, $\\,J_k,\\,$ a la suma d'errors al quadrat de les seues dades\n",
    "* El criteri SEQ és la suma de les distorsions de tots els clústers i, òbviament, és un criteri a minimitzar\n",
    "* Idealment, esperem clústers hiper-esfèrics compactes i de grandària pareguda, al voltant de $K$ mitjanes ben separades\n",
    "* Si la partició natural de les dades és distinta a l'esperada, és probable que la minimització de la SEQ no la trobe\n",
    "\n",
    "**Exemple:** $\\;$ càlcul de la SEQ per a $\\Pi=\\{X_1=\\{(1, 7)^t, (4, 2)^t, (4,6)^t\\}, X_2=\\{(8, 2)^t, (8, 6)^t\\}\\}$\n",
    "$$\\begin{align*}\n",
    "\\boldsymbol{m}_1&=(3,5)^t&&J_1=8+10+2=20\\\\\n",
    "\\boldsymbol{m}_2&=(8,4)^t&&J_2=4+4=8\n",
    "\\end{align*}$$\n",
    "$$J=J_1+J_2=28$$"
   ]
  },
  {
   "cell_type": "code",
   "execution_count": 1,
   "metadata": {},
   "outputs": [
    {
     "name": "stdout",
     "output_type": "stream",
     "text": [
      "J = 28.00 m = [[3. 5. 8. 4.]] S = [3 2]\n"
     ]
    }
   ],
   "source": [
    "import numpy as np; np.set_printoptions(precision=2)\n",
    "def SEQ(X, y): # labels from 0 to K-1 for simplicity\n",
    "    N, D = X.shape; K = np.max(y)+1; J = 0.0; m = np.zeros((K, D)); S = np.zeros(K).astype(int)\n",
    "    for k in range(K):\n",
    "        Xk = np.squeeze(X[np.where(y==k),:]); S[k] = Xk.shape[0]; \n",
    "        m[k] = Xk.mean(axis=0); J += np.square(Xk - m[k]).sum()\n",
    "    return J, m, S\n",
    "X = np.array([[1, 7], [4, 2], [4, 6], [8, 2], [8, 6]]); y = np.array([0, 0, 0, 1, 1])\n",
    "J, m, S = SEQ(X, y); print(f'J = {J:.2f} m = {m.reshape(1, -1)} S = {S}')"
   ]
  },
  {
   "cell_type": "markdown",
   "metadata": {},
   "source": [
    "# 3 Algorisme $K$-mitjanes de Duda i Hart\n",
    "\n",
    "**Increment de SEQ al transferir una dada de clúster:** $\\;$ si es transfereix una dada $\\boldsymbol{x}$ del clúster $i$ al $j$, l'increment de SEQ és\n",
    "$$\\Delta J = \\frac{\\lvert X_j\\rvert}{\\lvert X_j\\rvert + 1}\\lVert\\boldsymbol{x}-\\boldsymbol{m}_j\\rVert_2^2-\\frac{\\lvert X_i\\rvert}{\\lvert X_i\\rvert - 1}\\lVert\\boldsymbol{x}-\\boldsymbol{m}_i\\rVert_2^2$$\n",
    "\n",
    "**Condició DH:** $\\;$ convé transferir si $\\Delta J<0,$ és a dir, si s'incrementa menys $J$ en $X_j$ del que es decrementa en $X_i$\n",
    "$$\\frac{\\lvert X_j\\rvert}{\\lvert X_j\\rvert + 1}\\lVert\\boldsymbol{x}-\\boldsymbol{m}_j\\rVert_2^2<\\frac{\\lvert X_i\\rvert}{\\lvert X_i\\rvert - 1}\\lVert\\boldsymbol{x}-\\boldsymbol{m}_i\\rVert_2^2$$\n",
    "\n",
    "**Algorisme $K$-mitjanes de Duda i Hart:** $\\;$ per a cada dada, cerca la transferència de menor $\\Delta J$ i l'aplica si compleix DH\n",
    "> **Entrada:** $\\;$ una partició inicial, $\\,\\Pi=\\{X_1,\\dotsc,X_K\\}$ <br>\n",
    "> **Eixida:** $\\;$ una partició optimitzada, $\\,\\Pi^*=\\{X_1,\\dotsc,X_K\\}$ <br>\n",
    "> Calcular mitjanes i $J$ <br>\n",
    "> `repetir`\n",
    ">> `per a tota` $\\;$ dada $\\,\\boldsymbol{x}$ <br>\n",
    ">>> Siga $i$ el clúster en el qual es troba $\\boldsymbol{x}$ <br>\n",
    ">>> Trobar un $j\\neq i$ que minimitze $\\,\\triangle J\\,$ en transferir $\\,\\boldsymbol{x}\\,$ d'$i$ a $j$ <br>\n",
    ">>> `si` $\\,\\triangle J<0:\\;$ transferir $\\boldsymbol{x}$ d'$i$ a $j$ i actualitzar mitjanes i $J$ <br>\n",
    ">\n",
    "> `fins que` $\\;$ no es trobe cap transferència profitosa"
   ]
  },
  {
   "cell_type": "markdown",
   "metadata": {},
   "source": [
    "**Implementació:** $\\;$ funció per a problemes senzills"
   ]
  },
  {
   "cell_type": "code",
   "execution_count": 2,
   "metadata": {},
   "outputs": [],
   "source": [
    "import numpy as np; np.set_printoptions(precision=2, linewidth=np.inf)\n",
    "def kmeansDH(X, y, max_iter=10, verbose=0):\n",
    "    N = X.shape[0]; J, m, S = SEQ(X, y); z = y.copy(); notransfer = 0\n",
    "    for iter in range(max_iter):\n",
    "        for n in range(N):\n",
    "            x = X[n, :]; i = z[n]\n",
    "            if S[i] == 1: continue\n",
    "            D = np.square(x - m).sum(axis=1); Di = S[i] / (S[i] - 1.0) * D[i]\n",
    "            D = S / (S + 1.0) * D; D[i] = np.inf; j = np.argmin(D); Dj = D[j]; DJ = Dj - Di\n",
    "            if verbose > 0: print(f'{iter} {x} {Di:.2f} {Dj:.2f} {DJ:.2f}', end=\" \")\n",
    "            if DJ < 0.0:\n",
    "                z[n] = j; S[i] -= 1; S[j] += 1; J += DJ; notransfer = 1\n",
    "                m[i] = m[i] - (x - m[i]) / S[i]; m[j] = m[j] + (x - m[j]) / S[j]\n",
    "                if verbose > 0: print(f'=> z ={z} m = {m.reshape(1, -1)} J = {J:.2f}')\n",
    "            else: print(\"=> no transfer\"); notransfer += 1\n",
    "            if notransfer == N: break\n",
    "        if notransfer == N: break\n",
    "    return J, m, z"
   ]
  },
  {
   "cell_type": "markdown",
   "metadata": {},
   "source": [
    "**Exemple (cont.):** $\\quad X_1=\\{\\boldsymbol{x}_1=(1, 7)^t, \\boldsymbol{x}_2=(4, 2)^t, \\boldsymbol{x}_3=(4,6)^t\\}\\quad X_2=\\{\\boldsymbol{x}_4=(8, 2)^t, \\boldsymbol{x}_5=(8, 6)^t\\}$\n",
    "<center>\n",
    "\n",
    "|$\\boldsymbol{x}$|$i$|$j$|$\\frac{\\lvert X_i\\rvert}{\\lvert X_i\\rvert - 1}\\lVert\\boldsymbol{x}-\\boldsymbol{m}_i\\rVert_2^2$|$\\frac{\\lvert X_j\\rvert}{\\lvert X_j\\rvert + 1}\\lVert\\boldsymbol{x}-\\boldsymbol{m}_j\\rVert_2^2$|$\\triangle J$|$X_1$|$X_2$|$\\boldsymbol{m}_1$|$\\boldsymbol{m}_2$|$J$|\n",
    "|:-:|:-:|:-:|:-:|:-:|:-:|:-:|:-:|:-:|:-:|:-:|\n",
    "|||||||$\\{\\boldsymbol{x}_1,\\boldsymbol{x}_2,\\boldsymbol{x}_3\\}$|$\\{\\boldsymbol{x}_4,\\boldsymbol{x}_5\\}$|$(3,5)^t$|$(8,4)^t$|$28$|\n",
    "|$\\boldsymbol{x}_1$|$1$|$2$|$\\frac{3}{2}\\cdot 8=12$|$\\frac{2}{3}\\cdot 58=38.67$|$\\frac{80}{3}=26.67$||||\n",
    "|$\\boldsymbol{x}_2$|$1$|$2$|$\\frac{3}{2}\\cdot 10=15$|$\\frac{2}{3}\\cdot 20=13.33$|$-\\frac{5}{3}=-1.67$|$\\{\\boldsymbol{x}_1,\\boldsymbol{x}_3\\}$|$\\{\\boldsymbol{x}_2,\\boldsymbol{x}_4,\\boldsymbol{x}_5\\}$|$\\left(\\frac{5}{2},\\frac{13}{2}\\right)^t$|$\\left(\\frac{20}{3},\\frac{10}{3}\\right)^t$|$26.33$|\n",
    "|$\\boldsymbol{x}_3$|$1$|$2$|$\\frac{2}{1}\\cdot\\frac{10}{4}=5$|$\\frac{3}{4}\\cdot\\frac{128}{9}=10.67$|$\\frac{17}{3}=5.67$|\n",
    "|$\\boldsymbol{x}_4$|$2$|$1$|$\\frac{3}{2}\\cdot\\frac{32}{9}=5.33$|$\\frac{2}{3}\\cdot\\frac{101}{2}=33.67$|$\\frac{85}{3}=28.33$|\n",
    "|$\\boldsymbol{x}_5$|$2$|$1$|$\\frac{3}{2}\\cdot\\frac{80}{9}=13.33$|$\\frac{2}{3}\\cdot\\frac{61}{2}=20.33$|$7$|\n",
    "|$\\boldsymbol{x}_1$|$1$|$2$|$\\frac{2}{1}\\cdot\\frac{5}{2}=5$|$\\frac{3}{4}\\cdot\\frac{410}{9}=34.17$|$\\frac{175}{6}=29.17$|\n",
    "\n",
    "</center>"
   ]
  },
  {
   "cell_type": "code",
   "execution_count": 3,
   "metadata": {},
   "outputs": [
    {
     "name": "stdout",
     "output_type": "stream",
     "text": [
      "0 [1 7] 12.00 38.67 26.67 => no transfer\n",
      "0 [4 2] 15.00 13.33 -1.67 => z =[0 1 0 1 1] m = [[2.5  6.5  6.67 3.33]] J = 26.33\n",
      "0 [4 6] 5.00 10.67 5.67 => no transfer\n",
      "0 [8 2] 5.33 33.67 28.33 => no transfer\n",
      "0 [8 6] 13.33 20.33 7.00 => no transfer\n",
      "1 [1 7] 5.00 34.17 29.17 => no transfer\n",
      "[0 1 0 1 1] [[2.5  6.5  6.67 3.33]] 26.33\n"
     ]
    }
   ],
   "source": [
    "X = np.array([[1, 7], [4, 2], [4, 6], [8, 2], [8, 6]]); y = np.array([0, 0, 0, 1, 1])\n",
    "J, m, z = kmeansDH(X, y, max_iter=3, verbose=1)\n",
    "print(f'{z} {m.reshape(1, -1)} {J:.2f}')"
   ]
  },
  {
   "cell_type": "markdown",
   "metadata": {},
   "source": [
    "# 4 Algorisme $K$-mitjanes convencional\n",
    "\n",
    "**Condició convencional:** $\\;$ convé transferir $\\boldsymbol{x}$ del clúster $i$ al $j$ si\n",
    "$$\\lVert\\boldsymbol{x}-\\boldsymbol{m}_j\\rVert_2^2<\\lVert\\boldsymbol{x}-\\boldsymbol{m}_i\\rVert_2^2$$\n",
    "\n",
    "**Relació amb la condició DH:** $\\;$ la convencional és suficient (però no necessària; veure exemple)\n",
    "$$\\frac{\\lvert X_j\\rvert}{\\lvert X_j\\rvert + 1}\\lVert\\boldsymbol{x}-\\boldsymbol{m}_j\\rVert_2^2<\\lVert\\boldsymbol{x}-\\boldsymbol{m}_j\\rVert_2^2\\overset{?}{<}\\lVert\\boldsymbol{x}-\\boldsymbol{m}_i\\rVert_2^2<\\frac{\\lvert X_i\\rvert}{\\lvert X_i\\rvert - 1}\\lVert\\boldsymbol{x}-\\boldsymbol{m}_i\\rVert_2^2$$\n",
    "\n",
    "**Algorisme $K$-mitjanes convencional:**\n",
    "> **Entrada:** $\\;$ una partició inicial, $\\,\\Pi=\\{X_1,\\dotsc,X_K\\}$ <br>\n",
    "> **Eixida:** $\\;$ una partició optimitzada, $\\,\\Pi^*=\\{X_1,\\dotsc,X_K\\}$ <br>\n",
    "> `repetir`\n",
    ">> Calcular les mitjanes dels clústers <br>\n",
    ">> Reclassificar les dades segons les mitjanes més properes <br>\n",
    ">\n",
    "> `fins que` $\\;$ no es reclassifique cap dada"
   ]
  },
  {
   "cell_type": "markdown",
   "metadata": {},
   "source": [
    "**Implementació:** $\\;$ funció per a problemes senzills"
   ]
  },
  {
   "cell_type": "code",
   "execution_count": 4,
   "metadata": {},
   "outputs": [],
   "source": [
    "import numpy as np; np.set_printoptions(precision=2, linewidth=np.inf)\n",
    "def kmeans(X, y, max_iter=10, verbose=0):\n",
    "    N = X.shape[0]; z_prev = y.copy(); z = y.copy()\n",
    "    for iter in range(max_iter):\n",
    "        J, m, _ = SEQ(X, z); np.copyto(z_prev, z); transfers = 0\n",
    "        for n in range(N):\n",
    "            x = X[n, :]; i = z[n]; D = np.square(x - m).sum(axis=1)\n",
    "            Di = D[i]; D[i] = np.inf; j = np.argmin(D); Dj = D[j]\n",
    "            if verbose > 0: print(f'{iter} {x} {Di:.2f} {Dj:.2f}', end=\" \")\n",
    "            if Dj < Di:\n",
    "                z[n] = j; transfers += 1\n",
    "                if verbose > 0: print(f'=> z ={z}')\n",
    "            else: print(\"=> no transfer\");\n",
    "        if transfers == 0: break\n",
    "    return J, m, z"
   ]
  },
  {
   "cell_type": "markdown",
   "metadata": {},
   "source": [
    "**Exemple (cont.):** $\\quad X_1=\\{\\boldsymbol{x}_1=(1, 7)^t, \\boldsymbol{x}_2=(4, 2)^t, \\boldsymbol{x}_3=(4,6)^t\\}\\quad X_2=\\{\\boldsymbol{x}_4=(8, 2)^t, \\boldsymbol{x}_5=(8, 6)^t\\}$\n",
    "<center>\n",
    "\n",
    "|$\\boldsymbol{x}$|$i$|$j$|$\\lVert\\boldsymbol{x}-\\boldsymbol{m}_i\\rVert_2^2$|$\\lVert\\boldsymbol{x}-\\boldsymbol{m}_j\\rVert_2^2$|$X_1$|$X_2$|$\\boldsymbol{m}_1$|$\\boldsymbol{m}_2$|$J$|\n",
    "|:-:|:-:|:-:|:-:|:-:|:-:|:-:|:-:|:-:|:-:|\n",
    "||||||$\\{\\boldsymbol{x}_1,\\boldsymbol{x}_2,\\boldsymbol{x}_3\\}$|$\\{\\boldsymbol{x}_4,\\boldsymbol{x}_5\\}$|$(3,5)^t$|$(8,4)^t$|$28$|\n",
    "|$\\boldsymbol{x}_1$|$1$|$2$|$8$|$58$||||\n",
    "|$\\boldsymbol{x}_2$|$1$|$2$|$10$|$20$|\n",
    "|$\\boldsymbol{x}_3$|$1$|$2$|$2$|$20$|\n",
    "|$\\boldsymbol{x}_4$|$2$|$1$|$34$|$4$|\n",
    "|$\\boldsymbol{x}_5$|$2$|$1$|$26$|$4$|\n",
    "\n",
    "</center>"
   ]
  },
  {
   "cell_type": "code",
   "execution_count": 5,
   "metadata": {},
   "outputs": [
    {
     "name": "stdout",
     "output_type": "stream",
     "text": [
      "0 [1 7] 8.00 58.00 => no transfer\n",
      "0 [4 2] 10.00 20.00 => no transfer\n",
      "0 [4 6] 2.00 20.00 => no transfer\n",
      "0 [8 2] 4.00 34.00 => no transfer\n",
      "0 [8 6] 4.00 26.00 => no transfer\n",
      "[0 0 0 1 1] [[3. 5. 8. 4.]] 28.00\n"
     ]
    }
   ],
   "source": [
    "X = np.array([[1, 7], [4, 2], [4, 6], [8, 2], [8, 6]]); y = np.array([0, 0, 0, 1, 1])\n",
    "J, m, z = kmeans(X, y, max_iter=1, verbose=1)\n",
    "print(f'{z} {m.reshape(1, -1)} {J:.2f}')"
   ]
  }
 ],
 "metadata": {
  "kernelspec": {
   "display_name": "Python 3",
   "language": "python",
   "name": "python3"
  },
  "language_info": {
   "codemirror_mode": {
    "name": "ipython",
    "version": 3
   },
   "file_extension": ".py",
   "mimetype": "text/x-python",
   "name": "python",
   "nbconvert_exporter": "python",
   "pygments_lexer": "ipython3",
   "version": "3.10.12"
  }
 },
 "nbformat": 4,
 "nbformat_minor": 2
}
