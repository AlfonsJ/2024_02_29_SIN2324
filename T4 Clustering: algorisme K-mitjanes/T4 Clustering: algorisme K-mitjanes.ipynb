{
 "cells": [
  {
   "cell_type": "markdown",
   "metadata": {},
   "source": [
    "# T4 Clustering: algorisme K-mitjanes"
   ]
  },
  {
   "cell_type": "markdown",
   "metadata": {},
   "source": [
    "# Índex\n",
    "\n",
    "1. Clustering particional\n",
    "2. Criteri suma d'errors quadràtics\n",
    "3. Algorisme $K$-mitjanes de Duda i Hart\n",
    "4. Algorisme $K$-mitjanes convencional"
   ]
  },
  {
   "cell_type": "markdown",
   "metadata": {},
   "source": [
    "# 1 Clustering particional\n",
    "\n",
    "**Clustering particional:** $\\;$ donat un conjunt de $N$ dades $\\mathcal{D}$ i un nombre de clústers $K,\\,$ el clustering particional consisteix a optimitzar alguna funció criteri $J(\\Pi)$ per a avaluar la qualitat de qualsevol partició $\\Pi$ de les dades en $K$ clústers\n",
    "$$\\Pi^* = \\operatorname*{argopt}_{\\Pi} J(\\Pi)$$\n",
    "\n",
    "**Intractabilitat:** $\\;$ el clustering particional és en general un problema intractable ja que el nombre de particions a explorar creix exponencialment amb $N$ i $K$ (veure [nombres d'Stirling del segon tipus](https://en.wikipedia.org/wiki/Stirling_numbers_of_the_second_kind))\n",
    "\n",
    "**Aproximació usual:** $\\;$ fem ús d'algorismes aproximats per a optimitzar un criteri particular com ara la suma d'errors quadràtics"
   ]
  },
  {
   "cell_type": "markdown",
   "metadata": {},
   "source": [
    "# 2 Criteri suma d'errors quadràtics"
   ]
  },
  {
   "cell_type": "markdown",
   "metadata": {},
   "source": [
    "# 3 Algorisme $K$-mitjanes de Duda i Hart"
   ]
  },
  {
   "cell_type": "markdown",
   "metadata": {},
   "source": [
    "# 4 Algorisme $K$-mitjanes convencional"
   ]
  }
 ],
 "metadata": {
  "language_info": {
   "name": "python"
  }
 },
 "nbformat": 4,
 "nbformat_minor": 2
}
