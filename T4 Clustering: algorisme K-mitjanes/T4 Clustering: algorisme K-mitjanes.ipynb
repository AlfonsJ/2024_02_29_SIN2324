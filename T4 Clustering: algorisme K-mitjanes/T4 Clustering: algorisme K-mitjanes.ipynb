{
 "cells": [
  {
   "cell_type": "markdown",
   "metadata": {},
   "source": [
    "# T4 Clustering: algorisme K-mitjanes"
   ]
  },
  {
   "cell_type": "markdown",
   "metadata": {},
   "source": [
    "# Índex\n",
    "\n",
    "1. Clustering particional\n",
    "2. Criteri suma d'errors quadràtics\n",
    "3. Algorisme $K$-mitjanes de Duda i Hart\n",
    "4. Algorisme $K$-mitjanes convencional"
   ]
  },
  {
   "cell_type": "markdown",
   "metadata": {},
   "source": [
    "# 1 Clustering particional\n",
    "\n",
    "**Clustering particional:** $\\;$ donat un conjunt de $N$ dades $\\mathcal{D}$ i un nombre de clústers $K,\\,$ el clustering particional consisteix a optimitzar alguna funció criteri $J(\\Pi)$ per a avaluar la qualitat de qualsevol partició $\\Pi$ de les dades en $K$ clústers\n",
    "$$\\Pi^* = \\operatorname*{argopt}_{\\Pi} J(\\Pi)$$\n",
    "\n",
    "**Intractabilitat:** $\\;$ el clustering particional és en general un problema intractable ja que el nombre de particions a explorar creix exponencialment amb $N$ i $K$ (veure [nombres d'Stirling del segon tipus](https://en.wikipedia.org/wiki/Stirling_numbers_of_the_second_kind))\n",
    "\n",
    "**Aproximació usual:** $\\;$ fem ús d'algorismes aproximats per a optimitzar un criteri particular com ara la suma d'errors quadràtics"
   ]
  },
  {
   "cell_type": "markdown",
   "metadata": {},
   "source": [
    "# 2 Criteri suma d'errors quadràtics\n",
    "\n",
    "**Suma d'errors quadràtics (SEQ):** $\\;$ d'una partició $\\Pi=\\{X_1,\\dotsc,X_K\\}$\n",
    "$$J(\\Pi) = \\sum_{k=1}^K J_k%\n",
    "\\quad\\text{amb}\\quad%\n",
    "J_k = \\sum_{\\boldsymbol{x}\\in X_k} \\lVert{\\boldsymbol{x}-\\boldsymbol{m}_k}\\rVert_2^2\n",
    "\\quad\\text{i}\\quad%\n",
    "\\boldsymbol{m}_k = \\frac{1}{\\lvert X_k\\rvert}\\sum_{\\boldsymbol{x}\\in X_k} \\boldsymbol{x}$$\n",
    "\n",
    "**Interpretació:**\n",
    "* Cada clúster $k$ es representa pel seu **centroide** o **mitjana** $\\,\\boldsymbol{m}_k$\n",
    "* Si $\\boldsymbol{x}$ pertany al clúster $k$, $\\boldsymbol{x}-\\boldsymbol{m}_k$ és el **vector error** obtés al representar $\\boldsymbol{x}$ amb $\\boldsymbol{m}_k$\n",
    "* L'error associat a $\\boldsymbol{x}$ es mesura amb la norma Euclidiana del seu vector error, $\\lVert{\\boldsymbol{x}-\\boldsymbol{m}_k}\\rVert_2$\n",
    "* Anomenem **distorsió** del clúster $k$, $\\,J_k,\\,$ a la suma d'errors al quadrat de les seues dades\n",
    "* El criteri SEQ és la suma de les distorsions de tots els clústers i, òbviament, és un criteri a minimitzar\n",
    "* Idealment, esperem clústers hiper-esfèrics compactes i de grandària pareguda, al voltant de $K$ mitjanes ben separades\n",
    "* Si la partició natural de les dades és distinta a l'esperada, és probable que la minimització de la SEQ no la trobe\n",
    "\n",
    "**Exemple:** $\\;$ càlcul de la SEQ per a $\\Pi=\\{X_1=\\{(1, 7)^t, (4, 2)^t, (4,6)^t\\}, X_2=\\{(8, 2)^t, (8, 6)^t\\}\\}$"
   ]
  },
  {
   "cell_type": "code",
   "execution_count": 2,
   "metadata": {},
   "outputs": [],
   "source": [
    "import numpy as np\n",
    "X = np.array([[1, 7], [4, 2], [4, 6], [8, 2], [8, 6]]); y = np.array([1, 1, 1, 2, 2])\n"
   ]
  },
  {
   "cell_type": "markdown",
   "metadata": {},
   "source": [
    "# 3 Algorisme $K$-mitjanes de Duda i Hart"
   ]
  },
  {
   "cell_type": "markdown",
   "metadata": {},
   "source": [
    "# 4 Algorisme $K$-mitjanes convencional"
   ]
  }
 ],
 "metadata": {
  "kernelspec": {
   "display_name": "Python 3",
   "language": "python",
   "name": "python3"
  },
  "language_info": {
   "codemirror_mode": {
    "name": "ipython",
    "version": 3
   },
   "file_extension": ".py",
   "mimetype": "text/x-python",
   "name": "python",
   "nbconvert_exporter": "python",
   "pygments_lexer": "ipython3",
   "version": "3.11.4"
  }
 },
 "nbformat": 4,
 "nbformat_minor": 2
}
