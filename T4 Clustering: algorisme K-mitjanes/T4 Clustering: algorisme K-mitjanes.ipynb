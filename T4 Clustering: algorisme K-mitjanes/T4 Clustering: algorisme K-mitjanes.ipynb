{
 "cells": [
  {
   "cell_type": "markdown",
   "metadata": {},
   "source": [
    "# T4 Clustering: algorisme K-mitjanes"
   ]
  },
  {
   "cell_type": "markdown",
   "metadata": {},
   "source": [
    "# Índex\n",
    "\n",
    "1. Clustering particional\n",
    "2. Criteri suma d'errors quadràtics\n",
    "3. Algorisme $K$-mitjanes de Duda i Hart\n",
    "4. Algorisme $K$-mitjanes convencional"
   ]
  },
  {
   "cell_type": "markdown",
   "metadata": {},
   "source": [
    "# 1 Clustering particional\n",
    "\n",
    "**Clustering particional:** $\\;$ donat un conjunt de $N$ dades $\\mathcal{D}$ i un nombre de clústers $K,\\,$ el clustering particional consisteix a optimitzar alguna funció criteri $J(\\Pi)$ per a avaluar la qualitat de qualsevol partició $\\Pi$ de les dades en $K$ clústers\n",
    "$$\\Pi^* = \\operatorname*{argopt}_{\\Pi} J(\\Pi)$$\n",
    "\n",
    "**Intractabilitat:** $\\;$ el clustering particional és en general un problema intractable ja que el nombre de particions a explorar creix exponencialment amb $N$ i $K$ (veure [nombres d'Stirling del segon tipus](https://en.wikipedia.org/wiki/Stirling_numbers_of_the_second_kind))\n",
    "\n",
    "**Aproximació usual:** $\\;$ fem ús d'algorismes aproximats per a optimitzar un criteri particular com ara la suma d'errors quadràtics"
   ]
  },
  {
   "cell_type": "markdown",
   "metadata": {},
   "source": [
    "# 2 Criteri suma d'errors quadràtics\n",
    "\n",
    "**Suma d'errors quadràtics (SEQ):** $\\;$ d'una partició $\\Pi=\\{X_1,\\dotsc,X_K\\}$\n",
    "$$J(\\Pi) = \\sum_{k=1}^K J_k%\n",
    "\\quad\\text{amb}\\quad%\n",
    "J_k = \\sum_{\\boldsymbol{x}\\in X_k} \\lVert{\\boldsymbol{x}-\\boldsymbol{m}_k}\\rVert_2^2\n",
    "\\quad\\text{i}\\quad%\n",
    "\\boldsymbol{m}_k = \\frac{1}{\\lvert X_k\\rvert}\\sum_{\\boldsymbol{x}\\in X_k} \\boldsymbol{x}$$\n",
    "\n",
    "**Interpretació:**\n",
    "* Cada clúster $k$ es representa pel seu **centroide** o **mitjana** $\\,\\boldsymbol{m}_k$\n",
    "* Si $\\boldsymbol{x}$ pertany al clúster $k$, $\\boldsymbol{x}-\\boldsymbol{m}_k$ és el **vector error** obtés al representar $\\boldsymbol{x}$ amb $\\boldsymbol{m}_k$\n",
    "* L'error associat a $\\boldsymbol{x}$ es mesura amb la norma Euclidiana del seu vector error, $\\lVert{\\boldsymbol{x}-\\boldsymbol{m}_k}\\rVert_2$\n",
    "* Anomenem **distorsió** del clúster $k$, $\\,J_k,\\,$ a la suma d'errors al quadrat de les seues dades\n",
    "* El criteri SEQ és la suma de les distorsions de tots els clústers i, òbviament, és un criteri a minimitzar\n",
    "* Idealment, esperem clústers hiper-esfèrics compactes i de grandària pareguda, al voltant de $K$ mitjanes ben separades\n",
    "* Si la partició natural de les dades és distinta a l'esperada, és probable que la minimització de la SEQ no la trobe\n",
    "\n",
    "**Exemple:** $\\;$ càlcul de la SEQ per a $\\Pi=\\{X_1=\\{(1, 7)^t, (4, 2)^t, (4,6)^t\\}, X_2=\\{(8, 2)^t, (8, 6)^t\\}\\}$\n",
    "$$\\begin{align*}\n",
    "\\boldsymbol{m}_1&=(3,5)^t&&J_1=8+10+2=20\\\\\n",
    "\\boldsymbol{m}_2&=(8,4)^t&&J_2=4+4=8\n",
    "\\end{align*}$$\n",
    "$$J=J_1+J_2=28$$"
   ]
  },
  {
   "cell_type": "code",
   "execution_count": 1,
   "metadata": {},
   "outputs": [
    {
     "name": "stdout",
     "output_type": "stream",
     "text": [
      "Clúster 1: m = [3. 5.] J = 20.0\n",
      "Clúster 2: m = [8. 4.] J = 8.0\n",
      "J = 28.0\n"
     ]
    }
   ],
   "source": [
    "import numpy as np\n",
    "X = np.array([[1, 7], [4, 2], [4, 6], [8, 2], [8, 6]]); y = np.array([1, 1, 1, 2, 2]); J = 0.0;\n",
    "for k in np.unique(y):\n",
    "    Xk = X[np.where(y==k),:].reshape(-1, X.shape[1])\n",
    "    mk = Xk.mean(axis=0)\n",
    "    Jk = np.square(Xk - mk).sum()\n",
    "    print(f'Clúster {k}: m = {mk} J = {Jk}')\n",
    "    J += Jk\n",
    "print(f'J = {J}')"
   ]
  },
  {
   "cell_type": "markdown",
   "metadata": {},
   "source": [
    "# 3 Algorisme $K$-mitjanes de Duda i Hart\n",
    "\n",
    "**Increment de SEQ al transferir una dada de clúster:** $\\;$ si es transfereix una dada $\\boldsymbol{x}$ del clúster $i$ al $j$, l'increment de SEQ és\n",
    "$$\\Delta J = \\frac{\\lvert X_j\\rvert}{\\lvert X_j\\rvert + 1}\\lVert\\boldsymbol{x}-\\boldsymbol{m}_j\\rVert_2^2-\\frac{\\lvert X_i\\rvert}{\\lvert X_i\\rvert - 1}\\lVert\\boldsymbol{x}-\\boldsymbol{m}_i\\rVert_2^2$$\n",
    "\n",
    "**Transferència profitosa:** $\\;$ la transferència de $\\boldsymbol{x}$ del clúster $i$ al $j$ serà profitosa si $\\Delta J<0,$ és a dir, si\n",
    "$$\\frac{\\lvert X_j\\rvert}{\\lvert X_j\\rvert + 1}\\lVert\\boldsymbol{x}-\\boldsymbol{m}_j\\rVert_2^2<\\frac{\\lvert X_i\\rvert}{\\lvert X_i\\rvert - 1}\\lVert\\boldsymbol{x}-\\boldsymbol{m}_i\\rVert_2^2$$\n",
    "\n",
    "**Algorisme $K$-mitjanes de Duda i Hart:** $\\;$ cerca transferències profitoses i les aplica fins que no en queden\n",
    "> **Entrada:** $\\;$ una partició inicial, $\\,\\Pi=\\{X_1,\\dotsc,X_K\\}$ <br>\n",
    "> **Eixida:** $\\;$ una partició optimitzada, $\\,\\Pi^*=\\{X_1,\\dotsc,X_K\\}$ <br>\n",
    "> Calcular mitjanes i $J$ <br>\n",
    "> `repetir`\n",
    ">> `per a tota` $\\;$ dada $\\,\\boldsymbol{x}$ <br>\n",
    ">>> Siga $i$ el clúster en el qual es troba $\\boldsymbol{x}$ <br>\n",
    ">>> Trobar un $j^*\\neq i$ que minimitze $\\,\\triangle J\\,$ en transferir $\\,\\boldsymbol{x}\\,$ d'$i$ a $j^*$ <br>\n",
    ">>> `si` $\\,\\triangle J<0:\\;$ transferir $\\boldsymbol{x}$ d'$i$ a $j^*$ i actualitzar mitjanes i $J$ <br>\n",
    ">\n",
    "> `fins que` $\\;$ no es trobe cap transferència profitosa"
   ]
  },
  {
   "cell_type": "markdown",
   "metadata": {},
   "source": [
    "**Exemple (cont.):** $\\quad X_1=\\{\\boldsymbol{x}_1=(1, 7)^t, \\boldsymbol{x}_2=(4, 2)^t, \\boldsymbol{x}_3=(4,6)^t\\}\\quad X_2=\\{\\boldsymbol{x}_4=(8, 2)^t, \\boldsymbol{x}_5=(8, 6)^t\\}$\n",
    "<center>\n",
    "\n",
    "|Iteració|$\\boldsymbol{x}$|$i$|$j^*$|$\\frac{\\lvert X_i\\rvert}{\\lvert X_i\\rvert - 1}\\lVert\\boldsymbol{x}-\\boldsymbol{m}_i\\rVert_2^2$|$\\frac{\\lvert X_j\\rvert}{\\lvert X_j\\rvert + 1}\\lVert\\boldsymbol{x}-\\boldsymbol{m}_j\\rVert_2^2$|$\\triangle J$|$X_1$|$X_2$|$\\boldsymbol{m}_1$|$\\boldsymbol{m}_2$|$J$|\n",
    "|:-:|:-:|:-:|:-:|:-:|:-:|:-:|:-:|:-:|:-:|:-:|:-:|\n",
    "||||||||$\\{\\boldsymbol{x}_1,\\boldsymbol{x}_2,\\boldsymbol{x}_3\\}$|$\\{\\boldsymbol{x}_4,\\boldsymbol{x}_5\\}$|$(3,5)^t$|$(8,4)^t$|$28$|\n",
    "|$1$|$\\boldsymbol{x}_1$|$1$|$2$|$\\frac{3}{2}\\cdot 8$|$\\frac{2}{3}\\cdot 58$|$\\frac{80}{3}$||||\n",
    "|$1$|$\\boldsymbol{x}_2$|$1$|$2$|$\\frac{3}{2}\\cdot 10$|$\\frac{2}{3}\\cdot 20$|$-\\frac{5}{3}$||||\n",
    "</center>"
   ]
  },
  {
   "cell_type": "markdown",
   "metadata": {},
   "source": [
    "# 4 Algorisme $K$-mitjanes convencional"
   ]
  }
 ],
 "metadata": {
  "kernelspec": {
   "display_name": "Python 3",
   "language": "python",
   "name": "python3"
  },
  "language_info": {
   "codemirror_mode": {
    "name": "ipython",
    "version": 3
   },
   "file_extension": ".py",
   "mimetype": "text/x-python",
   "name": "python",
   "nbconvert_exporter": "python",
   "pygments_lexer": "ipython3",
   "version": "3.11.4"
  }
 },
 "nbformat": 4,
 "nbformat_minor": 2
}
