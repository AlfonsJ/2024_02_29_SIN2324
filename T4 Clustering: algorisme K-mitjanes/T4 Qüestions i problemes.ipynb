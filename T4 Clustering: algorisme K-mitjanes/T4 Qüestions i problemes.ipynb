{
 "cells": [
  {
   "cell_type": "markdown",
   "metadata": {},
   "source": [
    "# T4 Clustering: algorisme K-mitjanes"
   ]
  },
  {
   "cell_type": "markdown",
   "metadata": {},
   "source": [
    "**2023_01_26_Qüestió_4:** $\\;$ Tenim una partició d'un conjunt de dades $3$-dimensionals en un nombre de clústers donat, $C\\geq 2$. Considereu la transferència de la dada $\\boldsymbol{x}=(3,6,4)^t$ d'un clúster $j$ a altre $i$, $j\\neq i$. Se sap que el clúster $j$ conté $3$ dades (comptant $\\boldsymbol{x}$) i el $i$ $3$. Així mateix, se sap que la mitjana del clúster $j$ és $\\,\\boldsymbol{m}_j=(3,3,2)^t\\,$ i la del $i,\\,\\boldsymbol{m}_i=(7,6,9)^t$. Si es realitza la dita transferència, es produirà un increment de la suma d'errors quadràtics, $\\Delta J$, tal que:\n",
    "1. $\\Delta J<-70$\n",
    "2. $-70\\leq\\Delta J<-30$\n",
    "3. $-30\\leq\\Delta J<0$\n",
    "4. $\\Delta J\\geq 0$"
   ]
  },
  {
   "cell_type": "markdown",
   "metadata": {},
   "source": [
    "**Solució:** $\\;$ la 4 ja que $\\,\\Delta J=11.2$"
   ]
  },
  {
   "cell_type": "markdown",
   "metadata": {},
   "source": [
    "**2023_01_17_Qüestió 7:** $\\;$ La figura següent mostra una partició de $6$ punts bidimensionals en dos clústers, $\\circ$ i $\\bullet$:"
   ]
  },
  {
   "cell_type": "code",
   "execution_count": 1,
   "metadata": {},
   "outputs": [
    {
     "data": {
      "image/png": "[encoded data removed]",
      "text/plain": [
       "<Figure size 500x100 with 1 Axes>"
      ]
     },
     "metadata": {},
     "output_type": "display_data"
    }
   ],
   "source": [
    "import numpy as np; import matplotlib.pyplot as plt;\n",
    "fig = plt.figure(figsize=(5, 1)); plt.xlim([-.3, 10.3]); plt.ylim([-.3, 2.3])\n",
    "plt.xticks(np.arange(0, 11)); plt.yticks(np.arange(0, 3)); plt.grid()\n",
    "X = np.array([[1,0], [1,1], [4,0], [8,1], [9,0], [9,2]])\n",
    "y = np.array([1, 1, 1, 2, 2, 2])\n",
    "plt.scatter(*X.T, c=y, cmap=plt.cm.binary, edgecolors='black');"
   ]
  },
  {
   "cell_type": "markdown",
   "metadata": {},
   "source": [
    "Si transferim de clúster el punt $(1,0)^t$, es produeix una variació de la suma d'errors quadràtics (SEQ), $\\Delta J=J-J'$ (SEQ després de l'intercanvi menys SEQ abans de l'intercanvi), tal que:\n",
    "1. $\\Delta J<-7$\n",
    "2. $-7\\leq \\Delta J<0$\n",
    "3. $0\\leq \\Delta J<7$\n",
    "4. $\\Delta J\\geq 7$"
   ]
  },
  {
   "cell_type": "markdown",
   "metadata": {},
   "source": [
    "**Solució:** $\\;$ la 4 ja que $\\,\\Delta J=52.5-9.3=43.2$"
   ]
  }
 ],
 "metadata": {
  "kernelspec": {
   "display_name": "Python 3",
   "language": "python",
   "name": "python3"
  },
  "language_info": {
   "codemirror_mode": {
    "name": "ipython",
    "version": 3
   },
   "file_extension": ".py",
   "mimetype": "text/x-python",
   "name": "python",
   "nbconvert_exporter": "python",
   "pygments_lexer": "ipython3",
   "version": "3.11.4"
  }
 },
 "nbformat": 4,
 "nbformat_minor": 2
}
